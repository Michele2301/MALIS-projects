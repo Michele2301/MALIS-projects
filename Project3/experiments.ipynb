{
 "cells": [
  {
   "cell_type": "markdown",
   "id": "fa02a530",
   "metadata": {},
   "source": [
    "# Instructions on how to run the notebook\n",
    "The experiments notebook was written in order to work with the olympics 100m dataset.\n",
    "If running all the blocks in the notebook, all the operations will be performed automatically.\n",
    "\n",
    "If you want to run the blocks individually, follow the instructions below:\n",
    "### Performing validation of the model\n",
    "1. Run block in section 1 to import the necessary libraries\n",
    "2. Run block in section 2 to prepare the datasets\n",
    "3. Run blocks in section 3 to perform the validation on the model\n",
    "\n",
    "### Testing our best model on the test set\n",
    "1. All the blocks for the validation of the model must be run at least once\n",
    "2. Run blocks in section 4 to predict on the test set prepared in section 2\n",
    "\n",
    "### Comparison between our model and sklearn's model\n",
    "1. All the blocks for the validation of the model must be run at least once\n",
    "2. Run blocks in section 5 to compare the results of our model and sklearn's model\n",
    "\n",
    "\n"
   ]
  },
  {
   "cell_type": "markdown",
   "id": "f19649e7",
   "metadata": {},
   "source": [
    "# 1-Import needed libraries"
   ]
  },
  {
   "cell_type": "code",
   "execution_count": 16,
   "id": "initial_id",
   "metadata": {
    "ExecuteTime": {
     "end_time": "2024-01-21T16:19:51.635481500Z",
     "start_time": "2024-01-21T16:19:51.474794600Z"
    },
    "collapsed": true
   },
   "outputs": [
    {
     "name": "stdout",
     "output_type": "stream",
     "text": [
      "The autoreload extension is already loaded. To reload it, use:\n",
      "  %reload_ext autoreload\n"
     ]
    }
   ],
   "source": [
    "%load_ext autoreload\n",
    "%autoreload 2\n",
    "import numpy as np\n",
    "import pandas as pd"
   ]
  },
  {
   "cell_type": "markdown",
   "id": "e7a46a1d",
   "metadata": {},
   "source": [
    "# 2-Prepare training and test set"
   ]
  },
  {
   "cell_type": "code",
   "execution_count": 17,
   "id": "c2af8fec",
   "metadata": {},
   "outputs": [
    {
     "data": {
      "image/png": "[encoded data removed]",
      "text/plain": [
       "<Figure size 640x480 with 1 Axes>"
      ]
     },
     "metadata": {},
     "output_type": "display_data"
    }
   ],
   "source": [
    "olympics=0\n",
    "if olympics==0:\n",
    "    dataset=pd.read_csv('./Data/olympics_100m.csv')\n",
    "else:\n",
    "    #create using scikit learn a 2 numerical features dataset with 100 samples from a linear distribution\n",
    "    from sklearn import make_regression\n",
    "    X,Y=make_regression(n_samples=100, n_features=2, noise=2)\n",
    "    dataset=pd.DataFrame({'features':X[:,0],'features2':X[:,1],'targets':Y})\n",
    "from sklearn.model_selection import train_test_split\n",
    "dataset_train,dataset_test=train_test_split(dataset,test_size=0.2, random_state=42)\n",
    "X=dataset_train.drop('targets',axis=1).values.reshape(-1,dataset_train.shape[1]-1)\n",
    "Y=dataset_train['targets'].values.reshape(-1,1)\n",
    "\n",
    "#plot\n",
    "if dataset_train.shape[1]==2:\n",
    "    dataset_train.plot.scatter(x='features',y='targets')"
   ]
  },
  {
   "cell_type": "markdown",
   "id": "b4b78de6",
   "metadata": {},
   "source": [
    "# 3-Perform validation"
   ]
  },
  {
   "cell_type": "code",
   "execution_count": 18,
   "id": "381e4edad2f55332",
   "metadata": {
    "ExecuteTime": {
     "end_time": "2024-01-21T16:19:52.127190700Z",
     "start_time": "2024-01-21T16:19:51.901014900Z"
    },
    "collapsed": false
   },
   "outputs": [
    {
     "name": "stdout",
     "output_type": "stream",
     "text": [
      "best lambda atm:  100.0\n"
     ]
    }
   ],
   "source": [
    "#coarse to fine approach\n",
    "from ridge import Ridge_Regression\n",
    "## given the low amount of data available we decided to do a K-fold leave-one-out cross validation\n",
    "## the parameter lambda follows a coarse to fine approach\n",
    "## the coarse search is done by selecting the magnitude (with a range from 10^10 to 10^-10) and then searching around it\n",
    "k=len(X) #creating N folds where N is the cardinality of the dataset\n",
    "fold_size=int(len(X)/k)\n",
    "lambda_mses=[]\n",
    "# generates the intervals for the coarse to fine approach from 10^10 to 10^-10\n",
    "lambda_values=np.array(10.0 ** np.arange(10, -10, -1))\n",
    "for lambda_value in lambda_values:\n",
    "    # print('Lambda value: ',lambda_value)\n",
    "    ridge=Ridge_Regression(lambda_value)\n",
    "    mses=[]\n",
    "    for i in range(k):\n",
    "        # K-fold cross validation (take the data from the i-th fold as test data)\n",
    "        Xi=np.concatenate((X[:i*fold_size],X[(i+1)*fold_size:]),axis=0)\n",
    "        Yi=np.concatenate((Y[:i*fold_size],Y[(i+1)*fold_size:]),axis=0)\n",
    "        ridge.Train(Xi,Yi)\n",
    "        y_pred=ridge.Predict(X[i*fold_size:(i+1)*fold_size])\n",
    "        mses.append(((Y[i*fold_size:(i+1)*fold_size]-y_pred)**2).mean())\n",
    "    lambda_mses.append(np.mean(mses))\n",
    "    # print('lambda: ',lambda_value,' mse: ',np.mean(mses))\n",
    "print('best lambda atm: ',lambda_values[np.argmin(lambda_mses)])\n",
    "lambda_value=lambda_values[np.argmin(lambda_mses)]"
   ]
  },
  {
   "cell_type": "code",
   "execution_count": 19,
   "id": "b17ca0c997a9b4b3",
   "metadata": {
    "ExecuteTime": {
     "end_time": "2024-01-21T16:19:53.175452500Z",
     "start_time": "2024-01-21T16:19:52.127190700Z"
    },
    "collapsed": false
   },
   "outputs": [
    {
     "name": "stdout",
     "output_type": "stream",
     "text": [
      "best lambda:  416.67205028989997\n",
      "best mse:  0.06594373213115265\n"
     ]
    }
   ],
   "source": [
    "# searching around the discovered magnitude to find the best lambda\n",
    "order_of_magnitude=lambda_value\n",
    "for order in np.array(10.0 ** np.arange(np.log10(order_of_magnitude)+1, -10, -1)):\n",
    "    lambda_values=np.linspace(max(lambda_values[np.argmin(lambda_mses)]-1*order,0),lambda_values[np.argmin(lambda_mses)]+1*order,num=(20+1))\n",
    "    lambda_mses=[]\n",
    "    for lambda_value in lambda_values:\n",
    "        # print('lambda_value: ',lambda_value)\n",
    "        ridge=Ridge_Regression(lambda_value)\n",
    "        mses=[]\n",
    "        for i in range(k):\n",
    "            # K-fold cross validation (take the data from the i-th fold as test data)\n",
    "            Xi=np.concatenate((X[:i*fold_size],X[(i+1)*fold_size:]),axis=0)\n",
    "            Yi=np.concatenate((Y[:i*fold_size],Y[(i+1)*fold_size:]),axis=0)\n",
    "            ridge.Train(Xi,Yi)\n",
    "            y_pred=ridge.Predict(X[i*fold_size:(i+1)*fold_size])\n",
    "            mses.append(((Y[i*fold_size:(i+1)*fold_size]-y_pred)**2).mean())\n",
    "        lambda_mses.append(np.mean(mses))\n",
    "        # print('lambda: ',lambda_value,' mse: ',np.mean(lambda_mses))\n",
    "    # print('best lambda atm: ',lambda_values[np.argmin(lambda_mses)])\n",
    "    best_mse = np.min(lambda_mses)\n",
    "    lambda_value=lambda_values[np.argmin(lambda_mses)]\n",
    "\n",
    "print('best lambda: ',lambda_value)\n",
    "print('best mse: ',best_mse)"
   ]
  },
  {
   "cell_type": "markdown",
   "id": "ab318204",
   "metadata": {},
   "source": [
    "# 4-Test the model on test set"
   ]
  },
  {
   "cell_type": "code",
   "execution_count": 20,
   "id": "6c12bd83",
   "metadata": {},
   "outputs": [
    {
     "name": "stdout",
     "output_type": "stream",
     "text": [
      "mse on test set:  0.04869612438894045\n"
     ]
    }
   ],
   "source": [
    "X_test=dataset_test.drop('targets',axis=1).values.reshape(-1,dataset_test.shape[1]-1)\n",
    "Y_test=dataset_test['targets'].values.reshape(-1,1)\n",
    "ridge=Ridge_Regression(lambda_value)\n",
    "ridge.Train(X,Y)\n",
    "y_pred=ridge.Predict(X_test)\n",
    "mse=((Y_test-y_pred)**2).mean()\n",
    "print('mse on test set: ',mse)"
   ]
  },
  {
   "cell_type": "markdown",
   "id": "dc094df4",
   "metadata": {},
   "source": [
    "# 5-Comparison with SciKit Ridge Regression"
   ]
  },
  {
   "cell_type": "code",
   "execution_count": 21,
   "id": "c72bdc5c0a2f81f7",
   "metadata": {
    "ExecuteTime": {
     "end_time": "2024-01-21T16:19:53.355338500Z",
     "start_time": "2024-01-21T16:19:53.188025Z"
    },
    "collapsed": false
   },
   "outputs": [
    {
     "name": "stdout",
     "output_type": "stream",
     "text": [
      "year:  [2016]  time:  [9.81]\n",
      "year:  [1972]  time:  [10.14]\n",
      "year:  [1956]  time:  [10.5]\n",
      "year:  [1996]  time:  [9.84]\n",
      "year:  [1932]  time:  [10.32]\n",
      "year:  [1936]  time:  [10.3]\n",
      "year:  [2016]  time:  [9.59932804]\n",
      "scikit: year:  [2016]  time:  [9.59932804]\n",
      "year:  [1972]  time:  [10.16217654]\n",
      "scikit: year:  [1972]  time:  [10.16217654]\n",
      "year:  [1956]  time:  [10.36684873]\n",
      "scikit: year:  [1956]  time:  [10.36684873]\n",
      "year:  [1996]  time:  [9.85516827]\n",
      "scikit: year:  [1996]  time:  [9.85516827]\n",
      "year:  [1932]  time:  [10.673857]\n",
      "scikit: year:  [1932]  time:  [10.673857]\n",
      "year:  [1936]  time:  [10.62268895]\n",
      "scikit: year:  [1936]  time:  [10.62268895]\n",
      "w_mio:  ('Ridge Regression model with weights: ', array([[ 3.53880230e+01],\n",
      "       [-1.27920114e-02]]))\n",
      "w_sklearn:  [[-0.01279201]] [35.38802297]\n",
      "mse:  0.04869612438894045\n",
      "mse sklearn:  0.048696124388561635\n"
     ]
    }
   ],
   "source": [
    "ridge=Ridge_Regression(lambda_value)\n",
    "ridge.Train(X,Y) ## train on the training dataset\n",
    "X_test=dataset_test.drop('targets',axis=1).values.reshape(-1,dataset_test.shape[1]-1)\n",
    "Y_test=dataset_test['targets'].values.reshape(-1,1)\n",
    "y_pred=ridge.Predict(X_test)\n",
    "from sklearn.linear_model import Ridge\n",
    "ridge_sklearn=Ridge(alpha=lambda_value)\n",
    "ridge_sklearn.fit(X,Y)\n",
    "y_pred_sklearn=ridge_sklearn.predict(X_test)\n",
    "for i in range(len(X_test)):\n",
    "    print('year: ',X_test[i],' time: ',Y_test[i])\n",
    "for i in range(len(X_test)):\n",
    "    print('year: ',X_test[i],' time: ',y_pred[i])\n",
    "    print('scikit: year: ',X_test[i],' time: ',y_pred_sklearn[i])\n",
    "    \n",
    "print('w_mio: ',ridge.__str__())\n",
    "print('w_sklearn: ',ridge_sklearn.coef_,ridge_sklearn.intercept_)\n",
    "# mse on the test set\n",
    "print('mse: ',((Y_test-ridge.Predict(X_test))**2).mean())\n",
    "print('mse sklearn: ',((Y_test-ridge_sklearn.predict(X_test))**2).mean())"
   ]
  },
  {
   "cell_type": "code",
   "execution_count": 22,
   "id": "d8608c5e4bf75171",
   "metadata": {
    "ExecuteTime": {
     "end_time": "2024-01-21T16:19:53.701387100Z",
     "start_time": "2024-01-21T16:19:53.355338500Z"
    },
    "collapsed": false
   },
   "outputs": [
    {
     "ename": "NameError",
     "evalue": "name 'warnings' is not defined",
     "output_type": "error",
     "traceback": [
      "\u001b[1;31m---------------------------------------------------------------------------\u001b[0m",
      "\u001b[1;31mNameError\u001b[0m                                 Traceback (most recent call last)",
      "Cell \u001b[1;32mIn[22], line 2\u001b[0m\n\u001b[0;32m      1\u001b[0m \u001b[38;5;66;03m#plot if 1D\u001b[39;00m\n\u001b[1;32m----> 2\u001b[0m \u001b[43mwarnings\u001b[49m\u001b[38;5;241m.\u001b[39mfilterwarnings(\u001b[38;5;124m'\u001b[39m\u001b[38;5;124mignore\u001b[39m\u001b[38;5;124m'\u001b[39m)\n\u001b[0;32m      3\u001b[0m \u001b[38;5;28;01mif\u001b[39;00m dataset_train\u001b[38;5;241m.\u001b[39mshape[\u001b[38;5;241m1\u001b[39m]\u001b[38;5;241m==\u001b[39m\u001b[38;5;241m2\u001b[39m:\n\u001b[0;32m      4\u001b[0m     \u001b[38;5;28;01mimport\u001b[39;00m \u001b[38;5;21;01mmatplotlib\u001b[39;00m\u001b[38;5;21;01m.\u001b[39;00m\u001b[38;5;21;01mpyplot\u001b[39;00m \u001b[38;5;28;01mas\u001b[39;00m \u001b[38;5;21;01mplt\u001b[39;00m   \n",
      "\u001b[1;31mNameError\u001b[0m: name 'warnings' is not defined"
     ]
    }
   ],
   "source": [
    "#plot if 1D\n",
    "import warnings\n",
    "warnings.filterwarnings('ignore')\n",
    "if dataset_train.shape[1]==2:\n",
    "    import matplotlib.pyplot as plt   \n",
    "    ridge=Ridge_Regression(lambda_value)\n",
    "    ridge.Train(X,Y)\n",
    "    y_pred=ridge.Predict(X)\n",
    "    from sklearn.linear_model import Ridge\n",
    "    ridge_sklearn=Ridge(alpha=lambda_value)\n",
    "    ridge_sklearn.fit(X,Y)\n",
    "    y_pred_sklearn=ridge_sklearn.predict(X)\n",
    "    from sklearn.linear_model import RidgeCV\n",
    "    ridge_cv=RidgeCV(cv=k)\n",
    "    ridge_cv.fit(X,Y)\n",
    "    y_pred_cv=ridge_cv.predict(X)\n",
    "    plt.scatter(X, Y, label='Training Points')\n",
    "    plt.plot(X, y_pred_sklearn, label='Scikit Ridge Regression', color='green', marker=\"x\")\n",
    "    plt.plot(X, y_pred, label='My Ridge Regression', linestyle='--', color='red')\n",
    "    \n",
    "    plt.title('Comparison')\n",
    "    plt.xlabel('Year')\n",
    "    plt.ylabel('Time')\n",
    "    plt.legend()\n",
    "    plt.show()"
   ]
  },
  {
   "cell_type": "code",
   "execution_count": null,
   "id": "37dfb51a27cbfb66",
   "metadata": {
    "ExecuteTime": {
     "end_time": "2024-01-21T16:19:53.717068600Z",
     "start_time": "2024-01-21T16:19:53.701387100Z"
    },
    "collapsed": false
   },
   "outputs": [],
   "source": []
  }
 ],
 "metadata": {
  "kernelspec": {
   "display_name": "Python 3",
   "language": "python",
   "name": "python3"
  },
  "language_info": {
   "codemirror_mode": {
    "name": "ipython",
    "version": 3
   },
   "file_extension": ".py",
   "mimetype": "text/x-python",
   "name": "python",
   "nbconvert_exporter": "python",
   "pygments_lexer": "ipython3",
   "version": "3.8.18"
  }
 },
 "nbformat": 4,
 "nbformat_minor": 5
}
