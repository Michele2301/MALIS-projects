{
 "cells": [
  {
   "cell_type": "markdown",
   "id": "fa02a530",
   "metadata": {},
   "source": [
    "# Instructions on how to run the notebook\n",
    "The experiments notebook was written in order to work with the olympics 100m dataset.\n",
    "If running all the blocks in the notebook, all the operations will be performed automatically.\n",
    "\n",
    "If you want to run the blocks individually, follow the instructions below:\n",
    "### Performing validation of the model\n",
    "1. Run block in section 1 to import the necessary libraries\n",
    "2. Run block in section 2 to prepare the datasets\n",
    "3. Run blocks in section 3 to perform the validation on the model\n",
    "\n",
    "### Testing our best model on the test set\n",
    "1. All the blocks for the validation of the model must be run at least once\n",
    "2. Run blocks in section 4 to predict on the test set prepared in section 2\n",
    "\n",
    "### Comparison between our model and sklearn's model\n",
    "1. All the blocks for the validation of the model must be run at least once\n",
    "2. Run blocks in section 5 to compare the results of our model and sklearn's model\n",
    "\n",
    "\n"
   ]
  },
  {
   "cell_type": "markdown",
   "id": "f19649e7",
   "metadata": {},
   "source": [
    "# 1-Import needed libraries"
   ]
  },
  {
   "cell_type": "code",
   "execution_count": 8,
   "id": "initial_id",
   "metadata": {
    "collapsed": true,
    "ExecuteTime": {
     "end_time": "2024-01-24T16:10:48.040228Z",
     "start_time": "2024-01-24T16:10:47.162533400Z"
    }
   },
   "outputs": [
    {
     "name": "stdout",
     "output_type": "stream",
     "text": [
      "The autoreload extension is already loaded. To reload it, use:\n",
      "  %reload_ext autoreload\n"
     ]
    }
   ],
   "source": [
    "%load_ext autoreload\n",
    "%autoreload 2\n",
    "import numpy as np\n",
    "import pandas as pd"
   ]
  },
  {
   "cell_type": "markdown",
   "id": "e7a46a1d",
   "metadata": {},
   "source": [
    "# 2-Prepare training and test set"
   ]
  },
  {
   "cell_type": "code",
   "execution_count": 9,
   "id": "c2af8fec",
   "metadata": {
    "ExecuteTime": {
     "end_time": "2024-01-24T16:10:48.342342900Z",
     "start_time": "2024-01-24T16:10:48.040228Z"
    }
   },
   "outputs": [
    {
     "data": {
      "text/plain": "<Figure size 640x480 with 1 Axes>",
      "image/png": "[encoded data removed]"
     },
     "metadata": {},
     "output_type": "display_data"
    }
   ],
   "source": [
    "olympics=0\n",
    "if olympics==0:\n",
    "    dataset=pd.read_csv('./Data/olympics_100m.csv')\n",
    "else:\n",
    "    #create using scikit learn a 2 numerical features dataset with 100 samples from a linear distribution\n",
    "    from sklearn.datasets import make_regression\n",
    "    X,Y=make_regression(n_samples=100, n_features=2, noise=100)\n",
    "    dataset=pd.DataFrame({'features':X[:,0],'features2':X[:,1],'targets':Y})\n",
    "from sklearn.model_selection import train_test_split\n",
    "dataset_train,dataset_test=train_test_split(dataset,test_size=0.2, shuffle=False)\n",
    "X=dataset_train.drop('targets',axis=1).values.reshape(-1,dataset_train.shape[1]-1)\n",
    "Y=dataset_train['targets'].values.reshape(-1,1)\n",
    "\n",
    "#plot\n",
    "if dataset_train.shape[1]==2:\n",
    "    dataset_train.plot.scatter(x='features',y='targets')"
   ]
  },
  {
   "cell_type": "markdown",
   "id": "b4b78de6",
   "metadata": {},
   "source": [
    "# 3-Perform validation"
   ]
  },
  {
   "cell_type": "code",
   "execution_count": 10,
   "id": "381e4edad2f55332",
   "metadata": {
    "collapsed": false,
    "ExecuteTime": {
     "end_time": "2024-01-24T16:10:48.545433600Z",
     "start_time": "2024-01-24T16:10:48.342342900Z"
    }
   },
   "outputs": [
    {
     "name": "stdout",
     "output_type": "stream",
     "text": [
      "lambda:  10000000000.0  mse:  0.29450216855244804\n",
      "lambda:  1000000000.0  mse:  0.29449495087889566\n",
      "lambda:  100000000.0  mse:  0.29442279001485133\n",
      "lambda:  10000000.0  mse:  0.29370276516480687\n",
      "lambda:  1000000.0  mse:  0.2866576063118312\n",
      "lambda:  100000.0  mse:  0.22899801649651244\n",
      "lambda:  10000.0  mse:  0.05863995720421758\n",
      "lambda:  1000.0  mse:  0.028807786046514808\n",
      "lambda:  100.0  mse:  0.04522416484871012\n",
      "lambda:  10.0  mse:  0.047802599497547345\n",
      "lambda:  1.0  mse:  0.04807292618343272\n",
      "lambda:  0.1  mse:  0.0481000877701935\n",
      "lambda:  0.01  mse:  0.04810280522174975\n",
      "lambda:  0.001  mse:  0.048103076981100196\n",
      "lambda:  0.0001  mse:  0.04810310415969534\n",
      "lambda:  1e-05  mse:  0.04810310687479282\n",
      "lambda:  1e-06  mse:  0.048103107146266574\n",
      "lambda:  1e-07  mse:  0.048103107174324464\n",
      "lambda:  1e-08  mse:  0.04810310717559129\n",
      "lambda:  1e-09  mse:  0.04810310717599297\n",
      "best lambda atm:  1000.0\n"
     ]
    }
   ],
   "source": [
    "#coarse to fine approach\n",
    "from ridge import Ridge_Regression\n",
    "## given the low amount of data available we wanted to do a K-fold leave-one-out cross validation but, given the time constraint, we had to settle for a Time Series Split Cross-Validation.\n",
    "## this is taken from this article https://medium.com/@soumyachess1496/cross-validation-in-time-series-566ae4981ce4 where the logic is explained.\n",
    "## the parameter lambda follows a coarse to fine approach\n",
    "## the coarse search is done by selecting the magnitude (with a range from 10^10 to 10^-10) and then searching around it\n",
    "k=int(len(X)/2)\n",
    "lambda_mses=[]\n",
    "# generates the intervals for the coarse to fine approach from 10^10 to 10^-10\n",
    "lambda_values=np.array(10.0 ** np.arange(10, -10, -1))\n",
    "for lambda_value in lambda_values:\n",
    "    # print('Lambda value: ',lambda_value)\n",
    "    ridge=Ridge_Regression(lambda_value)\n",
    "    mses=[]\n",
    "    for i in range(len(X)-k,len(X),1):\n",
    "        # it starts with a training set of len(X) - k samples and then compute the mse on the next\n",
    "        # sample. It then adds this sample to the training set and repeat the process. A picture is\n",
    "        # given in the article linked above and on the report\n",
    "        Xi=X[:i]\n",
    "        Yi=Y[:i]\n",
    "        ridge.Train(Xi,Yi)\n",
    "        y_pred=ridge.Predict(X[i].reshape(1,-1))\n",
    "        mses.append(((Y[i]-y_pred)**2).mean())\n",
    "    lambda_mses.append(np.mean(mses))\n",
    "    print('lambda: ',lambda_value,' mse: ',np.mean(mses))\n",
    "print('best lambda atm: ',lambda_values[np.argmin(lambda_mses)])\n",
    "lambda_value=lambda_values[np.argmin(lambda_mses)]"
   ]
  },
  {
   "cell_type": "code",
   "execution_count": 11,
   "id": "b17ca0c997a9b4b3",
   "metadata": {
    "collapsed": false,
    "ExecuteTime": {
     "end_time": "2024-01-24T16:10:49.186329600Z",
     "start_time": "2024-01-24T16:10:48.545433600Z"
    }
   },
   "outputs": [
    {
     "name": "stdout",
     "output_type": "stream",
     "text": [
      "best lambda:  2548.6512999945\n",
      "best mse:  0.02172943027849049\n"
     ]
    }
   ],
   "source": [
    "# searching around the discovered magnitude to find the best lambda\n",
    "order_of_magnitude=lambda_value\n",
    "for order in np.array(10.0 ** np.arange(np.log10(order_of_magnitude)+1, -10, -1)):\n",
    "    lambda_values=np.linspace(max(lambda_values[np.argmin(lambda_mses)]-1*order,0),lambda_values[np.argmin(lambda_mses)]+1*order,num=(20+1))\n",
    "    lambda_mses=[]\n",
    "    for lambda_value in lambda_values:\n",
    "        # print('lambda_value: ',lambda_value)\n",
    "        ridge=Ridge_Regression(lambda_value)\n",
    "        mses=[]\n",
    "        for i in range(len(X)-k,len(X),1):\n",
    "            Xi=X[:i]\n",
    "            Yi=Y[:i]\n",
    "            ridge.Train(Xi,Yi)\n",
    "            y_pred=ridge.Predict(X[i].reshape(1,-1))\n",
    "            mses.append(((Y[i]-y_pred)**2).mean())\n",
    "        lambda_mses.append(np.mean(mses))\n",
    "        # print('lambda: ',lambda_value,' mse: ',np.mean(lambda_mses))\n",
    "    # print('best lambda atm: ',lambda_values[np.argmin(lambda_mses)])\n",
    "    best_mse = np.min(lambda_mses)\n",
    "    lambda_value=lambda_values[np.argmin(lambda_mses)]\n",
    "\n",
    "print('best lambda: ',lambda_value)\n",
    "print('best mse: ',best_mse)"
   ]
  },
  {
   "cell_type": "markdown",
   "id": "ab318204",
   "metadata": {},
   "source": [
    "# 4-Test the model on test set"
   ]
  },
  {
   "cell_type": "code",
   "execution_count": 12,
   "id": "6c12bd83",
   "metadata": {
    "ExecuteTime": {
     "end_time": "2024-01-24T16:10:49.342529700Z",
     "start_time": "2024-01-24T16:10:49.186329600Z"
    }
   },
   "outputs": [
    {
     "name": "stdout",
     "output_type": "stream",
     "text": [
      "mse on test set:  0.022887067309294132\n"
     ]
    }
   ],
   "source": [
    "X_test=dataset_test.drop('targets',axis=1).values.reshape(-1,dataset_test.shape[1]-1)\n",
    "Y_test=dataset_test['targets'].values.reshape(-1,1)\n",
    "ridge=Ridge_Regression(lambda_value)\n",
    "ridge.Train(X,Y)\n",
    "y_pred=ridge.Predict(X_test)\n",
    "mse=((Y_test-y_pred)**2).mean()\n",
    "print('mse on test set: ',mse)"
   ]
  },
  {
   "cell_type": "markdown",
   "id": "dc094df4",
   "metadata": {},
   "source": [
    "# 5-Comparison with SciKit Ridge Regression"
   ]
  },
  {
   "cell_type": "code",
   "execution_count": 13,
   "id": "c72bdc5c0a2f81f7",
   "metadata": {
    "collapsed": false,
    "ExecuteTime": {
     "end_time": "2024-01-24T16:10:49.516390Z",
     "start_time": "2024-01-24T16:10:49.342529700Z"
    }
   },
   "outputs": [
    {
     "name": "stdout",
     "output_type": "stream",
     "text": [
      "year:  [2000]  time:  [9.87]\n",
      "year:  [2004]  time:  [9.85]\n",
      "year:  [2008]  time:  [9.69]\n",
      "year:  [2012]  time:  [9.63]\n",
      "year:  [2016]  time:  [9.81]\n",
      "year:  [2020]  time:  [9.8]\n",
      "year:  [2000]  time:  [9.78577941]\n",
      "scikit: year:  [2000]  time:  [9.78577941]\n",
      "year:  [2004]  time:  [9.73642036]\n",
      "scikit: year:  [2004]  time:  [9.73642036]\n",
      "year:  [2008]  time:  [9.68706131]\n",
      "scikit: year:  [2008]  time:  [9.68706131]\n",
      "year:  [2012]  time:  [9.63770226]\n",
      "scikit: year:  [2012]  time:  [9.63770226]\n",
      "year:  [2016]  time:  [9.58834321]\n",
      "scikit: year:  [2016]  time:  [9.58834321]\n",
      "year:  [2020]  time:  [9.53898416]\n",
      "scikit: year:  [2020]  time:  [9.53898416]\n",
      "w_mio:  ('Ridge Regression model with weights: ', array([[ 3.44653038e+01],\n",
      "       [-1.23397622e-02]]))\n",
      "w_sklearn:  [[-0.01233976]] [34.46530376]\n",
      "mse:  0.022887067309294132\n",
      "mse sklearn:  0.022887067310203735\n"
     ]
    }
   ],
   "source": [
    "ridge=Ridge_Regression(lambda_value)\n",
    "ridge.Train(X,Y) ## train on the training dataset\n",
    "X_test=dataset_test.drop('targets',axis=1).values.reshape(-1,dataset_test.shape[1]-1)\n",
    "Y_test=dataset_test['targets'].values.reshape(-1,1)\n",
    "y_pred=ridge.Predict(X_test)\n",
    "from sklearn.linear_model import Ridge\n",
    "ridge_sklearn=Ridge(alpha=lambda_value)\n",
    "ridge_sklearn.fit(X,Y)\n",
    "y_pred_sklearn=ridge_sklearn.predict(X_test)\n",
    "for i in range(len(X_test)):\n",
    "    print('year: ',X_test[i],' time: ',Y_test[i])\n",
    "for i in range(len(X_test)):\n",
    "    print('year: ',X_test[i],' time: ',y_pred[i])\n",
    "    print('scikit: year: ',X_test[i],' time: ',y_pred_sklearn[i])\n",
    "    \n",
    "print('w_mio: ',ridge.__str__())\n",
    "print('w_sklearn: ',ridge_sklearn.coef_,ridge_sklearn.intercept_)\n",
    "# mse on the test set\n",
    "print('mse: ',((Y_test-ridge.Predict(X_test))**2).mean())\n",
    "print('mse sklearn: ',((Y_test-ridge_sklearn.predict(X_test))**2).mean())"
   ]
  },
  {
   "cell_type": "code",
   "execution_count": 14,
   "id": "d8608c5e4bf75171",
   "metadata": {
    "collapsed": false,
    "ExecuteTime": {
     "end_time": "2024-01-24T16:10:49.861710100Z",
     "start_time": "2024-01-24T16:10:49.516390Z"
    }
   },
   "outputs": [
    {
     "data": {
      "text/plain": "<Figure size 640x480 with 1 Axes>",
      "image/png": "[encoded data removed]"
     },
     "metadata": {},
     "output_type": "display_data"
    }
   ],
   "source": [
    "#plot if 1D\n",
    "import warnings\n",
    "warnings.filterwarnings('ignore')\n",
    "if dataset_train.shape[1]==2:\n",
    "    import matplotlib.pyplot as plt   \n",
    "    ridge=Ridge_Regression(lambda_value)\n",
    "    ridge.Train(X,Y)\n",
    "    y_pred=ridge.Predict(np.concatenate((X,X_test),axis=0))\n",
    "    from sklearn.linear_model import Ridge\n",
    "    ridge_sklearn=Ridge(alpha=lambda_value)\n",
    "    ridge_sklearn.fit(X,Y)\n",
    "    y_pred_sklearn=ridge_sklearn.predict(np.concatenate((X,X_test),axis=0))\n",
    "    from sklearn.linear_model import RidgeCV\n",
    "    ridge_cv=RidgeCV(cv=k)\n",
    "    ridge_cv.fit(X,Y)\n",
    "    y_pred_cv=ridge_cv.predict(np.concatenate((X,X_test),axis=0))\n",
    "    plt.scatter(X, Y, label='Training Points')\n",
    "    plt.scatter(X_test, Y_test, label='Test Points')\n",
    "    plt.plot(np.concatenate((X,X_test)), y_pred_sklearn, label='Scikit Ridge Regression', color='green', marker=\"x\")\n",
    "    plt.plot(np.concatenate((X,X_test)), y_pred, label='My Ridge Regression', linestyle='--', color='red')\n",
    "    \n",
    "    plt.title('Comparison')\n",
    "    plt.xlabel('Year')\n",
    "    plt.ylabel('Time')\n",
    "    plt.legend()\n",
    "    plt.show()"
   ]
  },
  {
   "cell_type": "code",
   "execution_count": 14,
   "id": "37dfb51a27cbfb66",
   "metadata": {
    "collapsed": false,
    "ExecuteTime": {
     "end_time": "2024-01-24T16:10:49.924209800Z",
     "start_time": "2024-01-24T16:10:49.861710100Z"
    }
   },
   "outputs": [],
   "source": []
  }
 ],
 "metadata": {
  "kernelspec": {
   "display_name": "Python 3",
   "language": "python",
   "name": "python3"
  },
  "language_info": {
   "codemirror_mode": {
    "name": "ipython",
    "version": 3
   },
   "file_extension": ".py",
   "mimetype": "text/x-python",
   "name": "python",
   "nbconvert_exporter": "python",
   "pygments_lexer": "ipython3",
   "version": "3.8.18"
  }
 },
 "nbformat": 4,
 "nbformat_minor": 5
}
