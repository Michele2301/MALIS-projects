{
 "cells": [
  {
   "cell_type": "markdown",
   "metadata": {},
   "source": [
    "### Instructions on how to run the notebook:\n",
    "#### Perform classification with the best model on the validation and test sets\n",
    "1. Import required libraries by running the first block\n",
    "2. Run the second block to prepare the data sets\n",
    "3. Assuming the the file weights.npy and alpha.npy are in the same directory as this notebook, run the fourth block to perform classification on both the validation and test sets using our chosen best model\n",
    "#### Perform validation to choose the best model\n",
    "1. Import required libraries by running the first block\n",
    "2. Run the second block to prepare the data sets\n",
    "3. Run the third block to perform validation and choose the best model"
   ],
   "id": "1d0ecba4f1951f44"
  },
  {
   "cell_type": "markdown",
   "id": "9d47d291",
   "metadata": {},
   "source": [
    "# Import needed libraries and prepare the data sets (training, validation, test)"
   ]
  },
  {
   "cell_type": "code",
   "execution_count": 2,
   "id": "d1c8c15f",
   "metadata": {
    "ExecuteTime": {
     "end_time": "2023-12-14T15:51:23.591333400Z",
     "start_time": "2023-12-14T15:51:23.527772500Z"
    }
   },
   "outputs": [],
   "source": [
    "from perceptron import Perceptron\n",
    "import numpy as np\n",
    "from sklearn.datasets import load_digits\n",
    "\n",
    "from sklearn.model_selection import train_test_split"
   ]
  },
  {
   "cell_type": "code",
   "execution_count": 3,
   "id": "1d91ee8c",
   "metadata": {
    "ExecuteTime": {
     "end_time": "2023-12-14T15:51:23.622581400Z",
     "start_time": "2023-12-14T15:51:23.544458100Z"
    }
   },
   "outputs": [],
   "source": [
    "X, y = load_digits(return_X_y=True, n_class=2)\n",
    "\n",
    "# Split in 60/40\n",
    "Xtrain, Xdata, yTrain, yData = train_test_split(X, y * 2 - 1, test_size=0.4, random_state=42, stratify=(y * 2 - 1))\n",
    "# Split in 50/50 the remaining 40%\n",
    "Xval, Xtest, yVal, yTest = train_test_split(Xdata, yData, test_size=0.5, random_state=42, stratify=yData)\n",
    "np.random.seed(42)"
   ]
  },
  {
   "cell_type": "markdown",
   "id": "dd82c7c0",
   "metadata": {},
   "source": [
    "# Validation of perceptron"
   ]
  },
  {
   "cell_type": "code",
   "execution_count": 4,
   "id": "07aefaf1",
   "metadata": {
    "ExecuteTime": {
     "end_time": "2023-12-14T15:54:08.331980600Z",
     "start_time": "2023-12-14T15:51:23.606960700Z"
    }
   },
   "outputs": [
    {
     "name": "stdout",
     "output_type": "stream",
     "text": [
      "Alpha: 0.1 Accuracy: 1.0 Margin: 0.37420176310379283\n",
      "Alpha: 0.1 Accuracy: 1.0 Margin: 1.398221509663573\n",
      "Alpha: 0.001 Accuracy: 1.0 Margin: 0.00527555388721912\n",
      "Alpha: 0.01 Accuracy: 1.0 Margin: 1.0216146742576193\n",
      "Alpha: 0.1 Accuracy: 1.0 Margin: 3.445611702216981\n",
      "Alpha: 0.01 Accuracy: 1.0 Margin: 0.051932901057536895\n",
      "Alpha: 0.1 Accuracy: 1.0 Margin: 0.21504656439423364\n",
      "Alpha: 0.1 Accuracy: 1.0 Margin: 2.641298485472315\n",
      "Alpha: 0.1 Accuracy: 1.0 Margin: 0.500398610068781\n",
      "Alpha: 0.001 Accuracy: 1.0 Margin: 0.07103766851339621\n",
      "Alpha: 0.1 Accuracy: 1.0 Margin: 2.1639707900651355\n",
      "Alpha: 0.1 Accuracy: 1.0 Margin: 2.0189939247833535\n",
      "Alpha: 0.01 Accuracy: 1.0 Margin: 1.2580012226138648\n",
      "Alpha: 0.1 Accuracy: 1.0 Margin: 1.3818093785730192\n",
      "Alpha: 0.01 Accuracy: 1.0 Margin: 0.036995956931241025\n",
      "Alpha: 0.1 Accuracy: 1.0 Margin: 1.399354063520599\n",
      "Alpha: 0.1 Accuracy: 1.0 Margin: 1.803462622930939\n",
      "Alpha: 0.1 Accuracy: 1.0 Margin: 2.297976589418476\n",
      "Alpha: 0.1 Accuracy: 1.0 Margin: 1.0791247291740906\n",
      "Alpha: 0.01 Accuracy: 1.0 Margin: 0.8908829972790802\n",
      "Alpha: 0.1 Accuracy: 1.0 Margin: 0.49411498968462286\n",
      "Alpha: 0.1 Accuracy: 1.0 Margin: 0.8759120529316413\n",
      "Alpha: 0.1 Accuracy: 1.0 Margin: 0.746800375467926\n",
      "Alpha: 0.1 Accuracy: 1.0 Margin: 0.9002347485214122\n",
      "Alpha: 1e-05 Accuracy: 1.0 Margin: 0.2712273781201717\n",
      "Alpha: 0.0001 Accuracy: 1.0 Margin: 0.30176098109432425\n",
      "Alpha: 0.001 Accuracy: 1.0 Margin: 0.28716574480135604\n",
      "Alpha: 0.01 Accuracy: 1.0 Margin: 2.488062333456157\n",
      "Alpha: 0.1 Accuracy: 1.0 Margin: 1.3916307518719306\n",
      "Alpha: 0.01 Accuracy: 1.0 Margin: 1.121046392890698\n",
      "Alpha: 0.1 Accuracy: 1.0 Margin: 0.7109470819109287\n",
      "Alpha: 0.1 Accuracy: 1.0 Margin: 1.1573616240822706\n",
      "Alpha: 0.1 Accuracy: 1.0 Margin: 1.3444062850686915\n",
      "Alpha: 0.1 Accuracy: 1.0 Margin: 0.5654149321277018\n",
      "Alpha: 0.1 Accuracy: 1.0 Margin: 0.3758000558167054\n",
      "Alpha: 1e-05 Accuracy: 1.0 Margin: 0.8712714228477496\n",
      "Alpha: 0.0001 Accuracy: 1.0 Margin: 0.8573035360911495\n",
      "Alpha: 0.001 Accuracy: 1.0 Margin: 0.9932356880838079\n",
      "Alpha: 0.01 Accuracy: 1.0 Margin: 1.7204194372150887\n",
      "Alpha: 0.1 Accuracy: 1.0 Margin: 1.0574775954471343\n",
      "Alpha: 0.1 Accuracy: 1.0 Margin: 1.6361078306310186\n",
      "Alpha: 0.1 Accuracy: 1.0 Margin: 0.5080912049320823\n",
      "Alpha: 0.01 Accuracy: 1.0 Margin: 1.1342932746225753\n",
      "Alpha: 0.01 Accuracy: 1.0 Margin: 0.14689197312018187\n",
      "Alpha: 0.01 Accuracy: 1.0 Margin: 0.09662616041730772\n",
      "Alpha: 0.1 Accuracy: 1.0 Margin: 1.7326871067664633\n",
      "Alpha: 0.01 Accuracy: 1.0 Margin: 0.14029686590730073\n",
      "Alpha: 0.1 Accuracy: 1.0 Margin: 1.5359687104162312\n",
      "Alpha: 1e-05 Accuracy: 1.0 Margin: 0.45303217975278365\n",
      "Alpha: 0.0001 Accuracy: 1.0 Margin: 0.44441317773120703\n",
      "Alpha: 0.001 Accuracy: 1.0 Margin: 0.38158401794500074\n",
      "Alpha: 0.01 Accuracy: 1.0 Margin: 0.15864784206439575\n",
      "Alpha: 0.01 Accuracy: 1.0 Margin: 0.9373321479668584\n",
      "Alpha: 0.1 Accuracy: 1.0 Margin: 0.33537971289883295\n",
      "Alpha: 0.1 Accuracy: 1.0 Margin: 0.7274410240733069\n",
      "Alpha: 0.01 Accuracy: 1.0 Margin: 0.7103979340439839\n",
      "Alpha: 0.1 Accuracy: 1.0 Margin: 2.1184315115016705\n",
      "Alpha: 0.1 Accuracy: 1.0 Margin: 0.48619048900775286\n",
      "Alpha: 0.1 Accuracy: 1.0 Margin: 0.879735261328729\n",
      "Alpha: 0.01 Accuracy: 1.0 Margin: 1.041244250346802\n",
      "Alpha: 0.1 Accuracy: 1.0 Margin: 1.9163896416140451\n",
      "Alpha: 0.1 Accuracy: 1.0 Margin: 1.7444944683495542\n",
      "Alpha: 0.1 Accuracy: 1.0 Margin: 2.4940609649793437\n",
      "Alpha: 0.1 Accuracy: 1.0 Margin: 1.9555640444517417\n",
      "Alpha: 0.01 Accuracy: 1.0 Margin: 0.8649261134913453\n",
      "Alpha: 0.1 Accuracy: 1.0 Margin: 0.09342379296526726\n",
      "Alpha: 0.1 Accuracy: 1.0 Margin: 0.8259870797291414\n",
      "Alpha: 0.01 Accuracy: 1.0 Margin: 0.3867064316512847\n",
      "Alpha: 0.1 Accuracy: 1.0 Margin: 2.2286076783616586\n",
      "Alpha: 0.1 Accuracy: 1.0 Margin: 0.5322523964610868\n",
      "Alpha: 0.1 Accuracy: 1.0 Margin: 0.609845746969728\n",
      "Alpha: 0.1 Accuracy: 1.0 Margin: 0.35222422648984364\n",
      "Alpha: 0.01 Accuracy: 1.0 Margin: 0.7050720587211909\n",
      "Alpha: 0.1 Accuracy: 1.0 Margin: 2.94080397356055\n",
      "Alpha: 0.1 Accuracy: 1.0 Margin: 0.31731574398844664\n",
      "Alpha: 0.1 Accuracy: 1.0 Margin: 1.5096118613470262\n",
      "Best model:\n",
      "Initial_weights: [-0.79287283 -0.10703036 -1.03524232 -0.55364931 -1.19787789  1.96472513\n",
      "  0.03526355 -0.69972551  0.21397991 -0.11232805 -0.2209696   0.6141667\n",
      "  0.75750771 -0.53050115 -0.57581824 -0.2750517  -2.30192116 -1.51519106\n",
      "  1.36687427  1.64496771 -0.24903604  0.57655696  0.31125015  3.07888081\n",
      "  1.11957491 -0.12791759 -0.95554044 -1.60644632  0.20346364 -0.75635075\n",
      " -1.42225371 -0.64657288 -1.081548    1.68714164  0.88163976 -0.00797264\n",
      "  1.47994414  0.07736831 -0.8612842   1.52312408  0.53891004 -1.03724615\n",
      " -0.19033868 -0.87561825 -1.38279973  0.92617755  1.90941664 -1.39856757\n",
      "  0.56296924 -0.65064257 -0.48712538 -0.59239392 -0.86399077  0.04852163\n",
      " -0.83095012  0.27045683 -0.05023811 -0.23894805 -0.90756366 -0.57677133\n",
      "  0.75539123  0.50091719 -0.97755524  0.09933231  0.75138712] Alpha: 0.1 Accuracy: 1.0 Margin: 3.445611702216981 Iterations: 3\n"
     ]
    }
   ],
   "source": [
    "accuracies = []\n",
    "for i in range(100):\n",
    "    initial_weights = np.random.randn(Xtrain.shape[1] + 1)\n",
    "    for alpha in [10**-5, 10**-4, 10**-3, 10**-2, 10**-1]:\n",
    "        perceptron = Perceptron(alpha)\n",
    "        iterations = perceptron.train(Xtrain, yTrain, initial_weights)\n",
    "        predictions = perceptron.predict(Xval)\n",
    "        accuracy = np.mean(predictions == yVal)\n",
    "        margin = perceptron.compute_min_margin(Xval)\n",
    "        accuracies.append((initial_weights, alpha, accuracy, margin, iterations))\n",
    "        \n",
    "# Find the maximum accuracy\n",
    "max_accuracy = max(accuracies, key=lambda x: x[2])[2]\n",
    "\n",
    "# Filter accuracies based on the maximum accuracy\n",
    "best = [el for el in accuracies if el[2] == max_accuracy]\n",
    "\n",
    "for el in best:\n",
    "    print(f'Alpha: {el[1]} Accuracy: {el[2]} Margin: {el[3]}')\n",
    "\n",
    "best_margin = max(best, key=lambda x: x[3])\n",
    "print('Best model:')\n",
    "print(f'Initial_weights: {best_margin[0]} Alpha: {best_margin[1]} Accuracy: {best_margin[2]} Margin: {best_margin[3]} Iterations: {best_margin[4]}')\n",
    "\n",
    "# save weights and alpha in a file\n",
    "np.save('weights', best_margin[0])\n",
    "np.save('alpha', best_margin[1])"
   ]
  },
  {
   "cell_type": "markdown",
   "id": "9ace9910",
   "metadata": {},
   "source": [
    "# Testing the perceptron on the test set"
   ]
  },
  {
   "cell_type": "code",
   "execution_count": 5,
   "id": "b682892c",
   "metadata": {
    "ExecuteTime": {
     "end_time": "2023-12-14T15:54:08.425753Z",
     "start_time": "2023-12-14T15:54:08.331980600Z"
    }
   },
   "outputs": [
    {
     "name": "stdout",
     "output_type": "stream",
     "text": [
      "Accuracy on eval set: 1.0\n",
      "Margin on eval set: 3.445611702216981\n",
      "Accuracy on test set: 1.0\n",
      "Margin on test set: 1.094277924417078\n"
     ]
    }
   ],
   "source": [
    "# load weights and alpha from a file\n",
    "weights = np.load('weights.npy')\n",
    "alpha = np.load('alpha.npy')\n",
    "# predict on eval set\n",
    "perceptron = Perceptron(alpha)\n",
    "perceptron.train(Xtrain, yTrain, weights)\n",
    "predictions = perceptron.predict(Xval)\n",
    "accuracy = np.mean(predictions == yVal)\n",
    "print(f'Accuracy on eval set: {accuracy}')\n",
    "print(f'Margin on eval set: {perceptron.compute_min_margin(Xval)}')\n",
    "# predict on test set\n",
    "perceptron = Perceptron(alpha)\n",
    "# Here on test we train both on train and eval\n",
    "Xtrain2 = np.concatenate((Xtrain, Xval))\n",
    "yTrain2 = np.concatenate((yTrain, yVal))\n",
    "perceptron.train(Xtrain2, yTrain2, weights)\n",
    "#Save final weights\n",
    "np.save('final_model_weights.npy', perceptron.weights)\n",
    "predictions = perceptron.predict(Xtest)\n",
    "accuracy = np.mean(predictions == yTest)\n",
    "print(f'Accuracy on test set: {accuracy}')\n",
    "print(f'Margin on test set: {perceptron.compute_min_margin(Xtest)}')"
   ]
  },
  {
   "cell_type": "markdown",
   "id": "247604b7",
   "metadata": {},
   "source": [
    "# Comparison with SciKit-Learn perceptron"
   ]
  },
  {
   "cell_type": "code",
   "execution_count": 6,
   "id": "2c84d1b1",
   "metadata": {
    "ExecuteTime": {
     "end_time": "2023-12-14T15:54:08.582032400Z",
     "start_time": "2023-12-14T15:54:08.363328800Z"
    }
   },
   "outputs": [
    {
     "name": "stdout",
     "output_type": "stream",
     "text": [
      "Scikit-learn Perceptron Accuracy on Validation Set: 0.9722222222222222\n",
      "Your Perceptron Algorithm Accuracy on Validation Set: 1.0\n",
      "Scikit-learn Perceptron Accuracy on Test Set: 0.9861111111111112\n",
      "Your Perceptron Algorithm Accuracy on Test Set: 1.0\n"
     ]
    }
   ],
   "source": [
    "from sklearn.linear_model import Perceptron as Perceptron_sklearn\n",
    "\n",
    "# load weights and alpha from a file\n",
    "weights = np.load('weights.npy')\n",
    "alpha = np.load('alpha.npy')\n",
    "# train my perceptron\n",
    "perceptron = Perceptron(alpha)\n",
    "perceptron.train(Xtrain, yTrain, weights)\n",
    "\n",
    "\n",
    "sklearn_perceptron = Perceptron_sklearn()\n",
    "\n",
    "sklearn_perceptron.fit(Xtrain, yTrain)\n",
    "\n",
    "sklearn_predictions = sklearn_perceptron.predict(Xval)\n",
    "sklearn_accuracy = np.mean(sklearn_predictions == yVal)\n",
    "print(f'Scikit-learn Perceptron Accuracy on Validation Set: {sklearn_accuracy}')\n",
    "\n",
    "my_predictions = perceptron.predict(Xval)\n",
    "my_accuracy = np.mean(my_predictions == yVal)\n",
    "print(f'Your Perceptron Algorithm Accuracy on Validation Set: {my_accuracy}')\n",
    "\n",
    "# Train on train+validation\n",
    "Xtrain = np.concatenate((Xtrain, Xval))\n",
    "yTrain = np.concatenate((yTrain, yVal))\n",
    "sklearn_predictions = sklearn_perceptron.predict(Xtest)\n",
    "sklearn_accuracy = np.mean(sklearn_predictions == yTest)\n",
    "print(f'Scikit-learn Perceptron Accuracy on Test Set: {sklearn_accuracy}')\n",
    "\n",
    "my_predictions = perceptron.predict(Xtest)\n",
    "my_accuracy = np.mean(my_predictions == yTest)\n",
    "print(f'Your Perceptron Algorithm Accuracy on Test Set: {my_accuracy}')\n"
   ]
  }
 ],
 "metadata": {
  "kernelspec": {
   "display_name": "Python 3 (ipykernel)",
   "language": "python",
   "name": "python3"
  },
  "language_info": {
   "codemirror_mode": {
    "name": "ipython",
    "version": 3
   },
   "file_extension": ".py",
   "mimetype": "text/x-python",
   "name": "python",
   "nbconvert_exporter": "python",
   "pygments_lexer": "ipython3",
   "version": "3.8.18"
  }
 },
 "nbformat": 4,
 "nbformat_minor": 5
}
