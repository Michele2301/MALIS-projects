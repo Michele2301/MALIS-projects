{
 "cells": [
  {
   "cell_type": "code",
   "execution_count": 56,
   "id": "initial_id",
   "metadata": {
    "collapsed": true,
    "ExecuteTime": {
     "end_time": "2023-11-21T10:59:42.937090300Z",
     "start_time": "2023-11-21T10:59:42.774202300Z"
    }
   },
   "outputs": [
    {
     "name": "stdout",
     "output_type": "stream",
     "text": [
      "The autoreload extension is already loaded. To reload it, use:\n",
      "  %reload_ext autoreload\n"
     ]
    },
    {
     "data": {
      "text/plain": "array([[0., 0., 5., ..., 0., 0., 0.],\n       [0., 0., 1., ..., 0., 0., 0.],\n       [0., 0., 3., ..., 0., 0., 0.],\n       ...,\n       [0., 0., 1., ..., 0., 0., 1.],\n       [0., 0., 8., ..., 0., 0., 1.],\n       [0., 0., 6., ..., 0., 0., 1.]])"
     },
     "execution_count": 56,
     "metadata": {},
     "output_type": "execute_result"
    }
   ],
   "source": [
    "%load_ext autoreload\n",
    "%autoreload 2\n",
    "import pandas as pd\n",
    "from perceptron import Perceptron\n",
    "from sklearn.datasets import load_digits\n",
    "from sklearn.model_selection import train_test_split\n",
    "import numpy as np\n",
    "data=load_digits(as_frame=True);\n",
    "data=data.frame\n",
    "# 8x8 images so 65 columns (64 pixels + 1 label)\n",
    "data0=data[data['target']==0]\n",
    "data1=data[data['target']==1]\n",
    "data=pd.concat([data0,data1])\n",
    "data.values"
   ]
  },
  {
   "cell_type": "code",
   "execution_count": 57,
   "id": "75a8770747cf027e",
   "metadata": {
    "collapsed": false,
    "ExecuteTime": {
     "end_time": "2023-11-21T10:59:51.867172800Z",
     "start_time": "2023-11-21T10:59:42.937090300Z"
    }
   },
   "outputs": [
    {
     "name": "stdout",
     "output_type": "stream",
     "text": [
      "1.0\n",
      "0.9861111111111112\n"
     ]
    }
   ],
   "source": [
    "Xdata, Xtest, ydata, ytest = train_test_split(data.values[:, 0:-1], data.values[:, -1]*2-1, test_size=0.2,\n",
    "                                              stratify=data.values[:, -1]*2-1)\n",
    "Xtrain, Xval, ytrain, yval = train_test_split(Xdata, ydata, test_size=0.2, stratify=ydata)\n",
    "perceptron = Perceptron()\n",
    "perceptron.train(Xtrain, ytrain, Xval, yval, 5000)\n",
    "print(np.mean(perceptron.predict(Xval) == yval))\n",
    "print(np.mean(perceptron.predict(Xtest) == ytest))"
   ]
  },
  {
   "cell_type": "code",
   "execution_count": 57,
   "outputs": [],
   "source": [],
   "metadata": {
    "collapsed": false,
    "ExecuteTime": {
     "end_time": "2023-11-21T10:59:51.882880200Z",
     "start_time": "2023-11-21T10:59:51.867172800Z"
    }
   },
   "id": "ab75a6fb24fb457"
  }
 ],
 "metadata": {
  "kernelspec": {
   "display_name": "Python 3",
   "language": "python",
   "name": "python3"
  },
  "language_info": {
   "codemirror_mode": {
    "name": "ipython",
    "version": 3
   },
   "file_extension": ".py",
   "mimetype": "text/x-python",
   "name": "python",
   "nbconvert_exporter": "python",
   "pygments_lexer": "ipython3",
   "version": "3.8.18"
  }
 },
 "nbformat": 4,
 "nbformat_minor": 5
}
