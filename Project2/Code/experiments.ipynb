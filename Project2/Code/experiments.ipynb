{
 "cells": [
  {
   "cell_type": "markdown",
   "metadata": {},
   "source": [
    "### Instructions on how to run the notebook:\n",
    "#### Perform classification with the best model on the validation and test sets\n",
    "1. Import required libraries by running the first block\n",
    "2. Run the second block to prepare the data sets\n",
    "3. Assuming the the file weights.py and alpha.py are in the same directory as this notebook, run the fourth block to perform classification on both the validation and test sets using our chosen best model\n",
    "#### Perform validation to choose the best model\n",
    "1. Import required libraries by running the first block\n",
    "2. Run the second block to prepare the data sets\n",
    "3. Run the third block to perform validation and choose the best model"
   ]
  },
  {
   "cell_type": "markdown",
   "id": "9d47d291",
   "metadata": {},
   "source": [
    "# Import needed libraries and prepare the data sets (training, validation, test)"
   ]
  },
  {
   "cell_type": "code",
   "execution_count": 12,
   "id": "d1c8c15f",
   "metadata": {},
   "outputs": [],
   "source": [
    "from perceptron import Perceptron\n",
    "import numpy as np\n",
    "from sklearn.datasets import load_digits\n",
    "\n",
    "from sklearn.model_selection import train_test_split"
   ]
  },
  {
   "cell_type": "code",
   "execution_count": 13,
   "id": "1d91ee8c",
   "metadata": {},
   "outputs": [],
   "source": [
    "X, y = load_digits(return_X_y=True, n_class=2)\n",
    "\n",
    "# Split in 60/40\n",
    "Xtrain, Xdata, yTrain, yData = train_test_split(X, y * 2 - 1, test_size=0.2, random_state=42, stratify=(y * 2 - 1))\n",
    "# Split in 50/50 the remaining 40%\n",
    "Xval, Xtest, yVal, yTest = train_test_split(Xdata, yData, test_size=0.5, random_state=42, stratify=yData)\n",
    "np.random.seed(42)"
   ]
  },
  {
   "cell_type": "markdown",
   "id": "dd82c7c0",
   "metadata": {},
   "source": [
    "# Validation of perceptron"
   ]
  },
  {
   "cell_type": "code",
   "execution_count": 14,
   "id": "07aefaf1",
   "metadata": {},
   "outputs": [],
   "source": [
    "accuracies = []\n",
    "for i in range(100):\n",
    "    initial_weights = np.random.randn(Xtrain.shape[1] + 1)\n",
    "    for alpha in [10**-5, 10**-4, 10**-3, 10**-2, 10**-1, 10, 10**1]:\n",
    "        perceptron = Perceptron(alpha)\n",
    "        iterations = perceptron.train(Xtrain, yTrain, initial_weights)\n",
    "        predictions = perceptron.predict(Xval)\n",
    "        accuracy = np.mean(predictions == yVal)\n",
    "        margin = perceptron.compute_min_margin(Xval)\n",
    "        accuracies.append((initial_weights, alpha, accuracy, margin, iterations))\n",
    "        \n",
    "# Find the maximum accuracy\n",
    "max_accuracy = max(accuracies, key=lambda x: x[2])[2]\n",
    "\n",
    "# Filter accuracies based on the maximum accuracy\n",
    "best = [el for el in accuracies if el[2] == max_accuracy]\n",
    "\n",
    "for el in best:\n",
    "    print(f'Alpha: {el[1]} Accuracy: {el[2]} Margin: {el[3]}')\n",
    "\n",
    "best_margin = max(best, key=lambda x: x[3])\n",
    "print('Best model:')\n",
    "print(f'Initial_weights: {best_margin[0]} Alpha: {best_margin[1]} Accuracy: {best_margin[2]} Margin: {best_margin[3]} Iterations: {best_margin[4]}')\n",
    "\n",
    "# save weights and alpha in a file\n",
    "np.save('weights', best_margin[0])\n",
    "np.save('alpha', best_margin[1])"
   ]
  },
  {
   "cell_type": "markdown",
   "id": "9ace9910",
   "metadata": {},
   "source": [
    "# Testing the perceptron on the test set"
   ]
  },
  {
   "cell_type": "code",
   "execution_count": null,
   "id": "b682892c",
   "metadata": {},
   "outputs": [
    {
     "name": "stdout",
     "output_type": "stream",
     "text": [
      "Accuracy on eval set: 1.0\n",
      "Margin on eval set: 6.06971954330057\n",
      "Accuracy on test set: 1.0\n",
      "Margin on test set: 5.455034884107503\n",
      "Initial_weights: [ 0.49671415 -0.1382643   0.64768854  1.52302986 -0.23415337 -0.23413696\n",
      "  1.57921282  0.76743473 -0.46947439  0.54256004 -0.46341769 -0.46572975\n",
      "  0.24196227 -1.91328024 -1.72491783 -0.56228753 -1.01283112  0.31424733\n",
      " -0.90802408 -1.4123037   1.46564877 -0.2257763   0.0675282  -1.42474819\n",
      " -0.54438272  0.11092259 -1.15099358  0.37569802 -0.60063869 -0.29169375\n",
      " -0.60170661  1.85227818 -0.01349722 -1.05771093  0.82254491 -1.22084365\n",
      "  0.2088636  -1.95967012 -1.32818605  0.19686124  0.73846658  0.17136828\n",
      " -0.11564828 -0.3011037  -1.47852199 -0.71984421 -0.46063877  1.05712223\n",
      "  0.34361829 -1.76304016  0.32408397 -0.38508228 -0.676922    0.61167629\n",
      "  1.03099952  0.93128012 -0.83921752 -0.30921238  0.33126343  0.97554513\n",
      " -0.47917424 -0.18565898 -1.10633497 -1.19620662  0.81252582]\n",
      "Alpha: 1e-05 Iterations: 1817\n",
      "Alpha: 0.0001 Iterations: 182\n",
      "Alpha: 0.001 Iterations: 19\n",
      "Alpha: 0.01 Iterations: 3\n",
      "Alpha: 0.1 Iterations: 4\n",
      "Alpha: 10 Iterations: 3\n",
      "Alpha: 10 Iterations: 3\n"
     ]
    }
   ],
   "source": [
    "# load weights and alpha from a file\n",
    "weights = np.load('weights.npy')\n",
    "alpha = np.load('alpha.npy')\n",
    "# predict on eval set\n",
    "perceptron = Perceptron(alpha)\n",
    "perceptron.train(Xtrain, yTrain, weights)\n",
    "predictions = perceptron.predict(Xval)\n",
    "accuracy = np.mean(predictions == yVal)\n",
    "print(f'Accuracy on eval set: {accuracy}')\n",
    "print(f'Margin on eval set: {perceptron.compute_min_margin(Xval)}')\n",
    "# predict on test set\n",
    "perceptron = Perceptron(alpha)\n",
    "perceptron.train(Xtrain, yTrain, weights)\n",
    "predictions = perceptron.predict(Xtest)\n",
    "accuracy = np.mean(predictions == yTest)\n",
    "print(f'Accuracy on test set: {accuracy}')\n",
    "print(f'Margin on test set: {perceptron.compute_min_margin(Xtest)}')\n",
    "\n",
    "# analysis on iterations varying alpha using the chosen best initial weights\n",
    "alphas = [10**-5, 10**-4, 10**-3, 10**-2, 10**-1, 10, 10**1]\n",
    "print(f'Initial_weights: {weights}')\n",
    "for alpha in alphas:\n",
    "    perceptron = Perceptron(alpha)\n",
    "    iterations = perceptron.train(Xtrain, yTrain, weights)\n",
    "    print(f'Alpha: {alpha} Iterations: {iterations}')"
   ]
  },
  {
   "cell_type": "markdown",
   "id": "247604b7",
   "metadata": {},
   "source": [
    "# Comparison with SciKit-Learn perceptron"
   ]
  },
  {
   "cell_type": "code",
   "execution_count": null,
   "id": "2c84d1b1",
   "metadata": {},
   "outputs": [
    {
     "name": "stdout",
     "output_type": "stream",
     "text": [
      "Scikit-learn Perceptron Accuracy on Validation Set: 1.0\n",
      "Your Perceptron Algorithm Accuracy on Validation Set: 1.0\n",
      "Scikit-learn Perceptron Accuracy on Test Set: 1.0\n",
      "Your Perceptron Algorithm Accuracy on Test Set: 1.0\n"
     ]
    }
   ],
   "source": [
    "from sklearn.linear_model import Perceptron as Perceptron_sklearn\n",
    "\n",
    "# load weights and alpha from a file\n",
    "weights = np.load('weights.npy')\n",
    "alpha = np.load('alpha.npy')\n",
    "# train my perceptron\n",
    "perceptron = Perceptron(alpha)\n",
    "perceptron.train(Xtrain, yTrain, weights)\n",
    "\n",
    "\n",
    "# Create an instance of scikit-learn's Perceptron\n",
    "sklearn_perceptron = Perceptron_sklearn()\n",
    "\n",
    "# Train the scikit-learn's Perceptron on your training data\n",
    "sklearn_perceptron.fit(Xtrain, yTrain)\n",
    "\n",
    "# Evaluate the scikit-learn's Perceptron on your validation data\n",
    "sklearn_predictions = sklearn_perceptron.predict(Xval)\n",
    "sklearn_accuracy = np.mean(sklearn_predictions == yVal)\n",
    "print(f'Scikit-learn Perceptron Accuracy on Validation Set: {sklearn_accuracy}')\n",
    "\n",
    "# Evaluate your perceptron algorithm on the same validation data\n",
    "your_predictions = perceptron.predict(Xval)\n",
    "your_accuracy = np.mean(your_predictions == yVal)\n",
    "print(f'Your Perceptron Algorithm Accuracy on Validation Set: {your_accuracy}')\n",
    "\n",
    "# Evaluate the scikit-learn's Perceptron on your test data\n",
    "sklearn_predictions = sklearn_perceptron.predict(Xtest)\n",
    "sklearn_accuracy = np.mean(sklearn_predictions == yTest)\n",
    "print(f'Scikit-learn Perceptron Accuracy on Test Set: {sklearn_accuracy}')\n",
    "\n",
    "# Evaluate your perceptron algorithm on the same test data\n",
    "your_predictions = perceptron.predict(Xtest)\n",
    "your_accuracy = np.mean(your_predictions == yTest)\n",
    "print(f'Your Perceptron Algorithm Accuracy on Test Set: {your_accuracy}')\n"
   ]
  }
 ],
 "metadata": {
  "kernelspec": {
   "display_name": "Python 3 (ipykernel)",
   "language": "python",
   "name": "python3"
  },
  "language_info": {
   "codemirror_mode": {
    "name": "ipython",
    "version": 3
   },
   "file_extension": ".py",
   "mimetype": "text/x-python",
   "name": "python",
   "nbconvert_exporter": "python",
   "pygments_lexer": "ipython3",
   "version": "3.8.18"
  }
 },
 "nbformat": 4,
 "nbformat_minor": 5
}
