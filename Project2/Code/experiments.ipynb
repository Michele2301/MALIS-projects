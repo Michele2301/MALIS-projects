{
 "cells": [
  {
   "cell_type": "markdown",
   "metadata": {},
   "source": [
    "### Instructions on how to run the notebook:\n",
    "#### Perform classification with the best model on the validation and test sets\n",
    "1. Import required libraries by running the first block\n",
    "2. Run the second block to prepare the data sets\n",
    "3. Assuming the the file weights.npy and alpha.npy are in the same directory as this notebook, run the fourth block to perform classification on both the validation and test sets using our chosen best model\n",
    "#### Perform validation to choose the best model\n",
    "1. Import required libraries by running the first block\n",
    "2. Run the second block to prepare the data sets\n",
    "3. Run the third block to perform validation and choose the best model"
   ]
  },
  {
   "cell_type": "markdown",
   "id": "9d47d291",
   "metadata": {},
   "source": [
    "# Import needed libraries and prepare the data sets (training, validation, test)"
   ]
  },
  {
   "cell_type": "code",
   "execution_count": 37,
   "id": "d1c8c15f",
   "metadata": {},
   "outputs": [],
   "source": [
    "from perceptron import Perceptron\n",
    "import numpy as np\n",
    "from sklearn.datasets import load_digits\n",
    "\n",
    "from sklearn.model_selection import train_test_split"
   ]
  },
  {
   "cell_type": "code",
   "execution_count": 38,
   "id": "1d91ee8c",
   "metadata": {},
   "outputs": [],
   "source": [
    "X, y = load_digits(return_X_y=True, n_class=2)\n",
    "\n",
    "# Split in 60/40\n",
    "Xtrain, Xdata, yTrain, yData = train_test_split(X, y * 2 - 1, test_size=0.4, random_state=42, stratify=(y * 2 - 1))\n",
    "# Split in 50/50 the remaining 40%\n",
    "Xval, Xtest, yVal, yTest = train_test_split(Xdata, yData, test_size=0.5, random_state=42, stratify=yData)\n",
    "np.random.seed(42)"
   ]
  },
  {
   "cell_type": "markdown",
   "id": "dd82c7c0",
   "metadata": {},
   "source": [
    "# Validation of perceptron"
   ]
  },
  {
   "cell_type": "code",
   "execution_count": 39,
   "id": "07aefaf1",
   "metadata": {},
   "outputs": [
    {
     "name": "stdout",
     "output_type": "stream",
     "text": [
      "Alpha: 0.1 Accuracy: 1.0 Margin: 0.3742017631037937\n",
      "Alpha: 0.1 Accuracy: 1.0 Margin: 1.3982215096635735\n",
      "Alpha: 0.001 Accuracy: 1.0 Margin: 0.005275553887219342\n",
      "Alpha: 0.01 Accuracy: 1.0 Margin: 1.0216146742576193\n",
      "Alpha: 0.1 Accuracy: 1.0 Margin: 3.44561170221698\n",
      "Alpha: 0.01 Accuracy: 1.0 Margin: 0.051932901057536895\n",
      "Alpha: 0.1 Accuracy: 1.0 Margin: 0.21504656439423275\n",
      "Alpha: 0.1 Accuracy: 1.0 Margin: 2.6412984854723156\n",
      "Alpha: 0.1 Accuracy: 1.0 Margin: 0.500398610068781\n",
      "Alpha: 0.001 Accuracy: 1.0 Margin: 0.07103766851339799\n",
      "Alpha: 0.1 Accuracy: 1.0 Margin: 2.1639707900651355\n",
      "Alpha: 0.1 Accuracy: 1.0 Margin: 2.018993924783354\n",
      "Alpha: 0.01 Accuracy: 1.0 Margin: 1.2580012226138653\n",
      "Alpha: 0.1 Accuracy: 1.0 Margin: 1.3818093785730188\n",
      "Alpha: 0.01 Accuracy: 1.0 Margin: 0.03699595693124191\n",
      "Alpha: 0.1 Accuracy: 1.0 Margin: 1.3993540635205985\n",
      "Alpha: 0.1 Accuracy: 1.0 Margin: 1.8034626229309398\n",
      "Alpha: 0.1 Accuracy: 1.0 Margin: 2.297976589418474\n",
      "Alpha: 0.1 Accuracy: 1.0 Margin: 1.0791247291740929\n",
      "Alpha: 0.01 Accuracy: 1.0 Margin: 0.8908829972790784\n",
      "Alpha: 0.1 Accuracy: 1.0 Margin: 0.4941149896846255\n",
      "Alpha: 0.1 Accuracy: 1.0 Margin: 0.8759120529316422\n",
      "Alpha: 0.1 Accuracy: 1.0 Margin: 0.7468003754679269\n",
      "Alpha: 0.1 Accuracy: 1.0 Margin: 0.9002347485214127\n",
      "Alpha: 1e-05 Accuracy: 1.0 Margin: 0.27122737812017195\n",
      "Alpha: 0.0001 Accuracy: 1.0 Margin: 0.3017609810943247\n",
      "Alpha: 0.001 Accuracy: 1.0 Margin: 0.2871657448013556\n",
      "Alpha: 0.01 Accuracy: 1.0 Margin: 2.488062333456157\n",
      "Alpha: 0.1 Accuracy: 1.0 Margin: 1.391630751871929\n",
      "Alpha: 0.01 Accuracy: 1.0 Margin: 1.121046392890698\n",
      "Alpha: 0.1 Accuracy: 1.0 Margin: 0.7109470819109269\n",
      "Alpha: 0.1 Accuracy: 1.0 Margin: 1.1573616240822697\n",
      "Alpha: 0.1 Accuracy: 1.0 Margin: 1.3444062850686909\n",
      "Alpha: 0.1 Accuracy: 1.0 Margin: 0.5654149321277038\n",
      "Alpha: 0.1 Accuracy: 1.0 Margin: 0.37580005581670406\n",
      "Alpha: 1e-05 Accuracy: 1.0 Margin: 0.8712714228477485\n",
      "Alpha: 0.0001 Accuracy: 1.0 Margin: 0.8573035360911501\n",
      "Alpha: 0.001 Accuracy: 1.0 Margin: 0.993235688083808\n",
      "Alpha: 0.01 Accuracy: 1.0 Margin: 1.7204194372150887\n",
      "Alpha: 0.1 Accuracy: 1.0 Margin: 1.0574775954471338\n",
      "Alpha: 0.1 Accuracy: 1.0 Margin: 1.636107830631019\n",
      "Alpha: 0.1 Accuracy: 1.0 Margin: 0.5080912049320832\n",
      "Alpha: 0.01 Accuracy: 1.0 Margin: 1.134293274622575\n",
      "Alpha: 0.01 Accuracy: 1.0 Margin: 0.14689197312018099\n",
      "Alpha: 0.01 Accuracy: 1.0 Margin: 0.09662616041730931\n",
      "Alpha: 0.1 Accuracy: 1.0 Margin: 1.7326871067664622\n",
      "Alpha: 0.01 Accuracy: 1.0 Margin: 0.14029686590730295\n",
      "Alpha: 0.1 Accuracy: 1.0 Margin: 1.5359687104162316\n",
      "Alpha: 1e-05 Accuracy: 1.0 Margin: 0.4530321797527832\n",
      "Alpha: 0.0001 Accuracy: 1.0 Margin: 0.44441317773120836\n",
      "Alpha: 0.001 Accuracy: 1.0 Margin: 0.3815840179450003\n",
      "Alpha: 0.01 Accuracy: 1.0 Margin: 0.15864784206439397\n",
      "Alpha: 0.01 Accuracy: 1.0 Margin: 0.9373321479668585\n",
      "Alpha: 0.1 Accuracy: 1.0 Margin: 0.33537971289883206\n",
      "Alpha: 0.1 Accuracy: 1.0 Margin: 0.7274410240733056\n",
      "Alpha: 0.01 Accuracy: 1.0 Margin: 0.7103979340439848\n",
      "Alpha: 0.1 Accuracy: 1.0 Margin: 2.1184315115016705\n",
      "Alpha: 0.1 Accuracy: 1.0 Margin: 0.4861904890077544\n",
      "Alpha: 0.1 Accuracy: 1.0 Margin: 0.8797352613287275\n",
      "Alpha: 0.01 Accuracy: 1.0 Margin: 1.0412442503468018\n",
      "Alpha: 0.1 Accuracy: 1.0 Margin: 1.9163896416140462\n",
      "Alpha: 0.1 Accuracy: 1.0 Margin: 1.7444944683495516\n",
      "Alpha: 0.1 Accuracy: 1.0 Margin: 2.4940609649793437\n",
      "Alpha: 0.1 Accuracy: 1.0 Margin: 1.9555640444517413\n",
      "Alpha: 0.01 Accuracy: 1.0 Margin: 0.8649261134913439\n",
      "Alpha: 0.1 Accuracy: 1.0 Margin: 0.0934237929652677\n",
      "Alpha: 0.1 Accuracy: 1.0 Margin: 0.8259870797291405\n",
      "Alpha: 0.01 Accuracy: 1.0 Margin: 0.3867064316512865\n",
      "Alpha: 0.1 Accuracy: 1.0 Margin: 2.228607678361657\n",
      "Alpha: 0.1 Accuracy: 1.0 Margin: 0.5322523964610872\n",
      "Alpha: 0.1 Accuracy: 1.0 Margin: 0.6098457469697289\n",
      "Alpha: 0.1 Accuracy: 1.0 Margin: 0.35222422648984386\n",
      "Alpha: 0.01 Accuracy: 1.0 Margin: 0.7050720587211963\n",
      "Alpha: 0.1 Accuracy: 1.0 Margin: 2.94080397356055\n",
      "Alpha: 0.1 Accuracy: 1.0 Margin: 0.31731574398844575\n",
      "Alpha: 0.1 Accuracy: 1.0 Margin: 1.5096118613470255\n",
      "Best model:\n",
      "Initial_weights: [-0.79287283 -0.10703036 -1.03524232 -0.55364931 -1.19787789  1.96472513\n",
      "  0.03526355 -0.69972551  0.21397991 -0.11232805 -0.2209696   0.6141667\n",
      "  0.75750771 -0.53050115 -0.57581824 -0.2750517  -2.30192116 -1.51519106\n",
      "  1.36687427  1.64496771 -0.24903604  0.57655696  0.31125015  3.07888081\n",
      "  1.11957491 -0.12791759 -0.95554044 -1.60644632  0.20346364 -0.75635075\n",
      " -1.42225371 -0.64657288 -1.081548    1.68714164  0.88163976 -0.00797264\n",
      "  1.47994414  0.07736831 -0.8612842   1.52312408  0.53891004 -1.03724615\n",
      " -0.19033868 -0.87561825 -1.38279973  0.92617755  1.90941664 -1.39856757\n",
      "  0.56296924 -0.65064257 -0.48712538 -0.59239392 -0.86399077  0.04852163\n",
      " -0.83095012  0.27045683 -0.05023811 -0.23894805 -0.90756366 -0.57677133\n",
      "  0.75539123  0.50091719 -0.97755524  0.09933231  0.75138712] Alpha: 0.1 Accuracy: 1.0 Margin: 3.44561170221698 Iterations: 3\n"
     ]
    }
   ],
   "source": [
    "accuracies = []\n",
    "for i in range(100):\n",
    "    initial_weights = np.random.randn(Xtrain.shape[1] + 1)\n",
    "    for alpha in [10**-5, 10**-4, 10**-3, 10**-2, 10**-1]:\n",
    "        perceptron = Perceptron(alpha)\n",
    "        iterations = perceptron.train(Xtrain, yTrain, initial_weights)\n",
    "        predictions = perceptron.predict(Xval)\n",
    "        accuracy = np.mean(predictions == yVal)\n",
    "        margin = perceptron.compute_min_margin(Xval)\n",
    "        accuracies.append((initial_weights, alpha, accuracy, margin, iterations))\n",
    "        \n",
    "# Find the maximum accuracy\n",
    "max_accuracy = max(accuracies, key=lambda x: x[2])[2]\n",
    "\n",
    "# Filter accuracies based on the maximum accuracy\n",
    "best = [el for el in accuracies if el[2] == max_accuracy]\n",
    "\n",
    "for el in best:\n",
    "    print(f'Alpha: {el[1]} Accuracy: {el[2]} Margin: {el[3]}')\n",
    "\n",
    "best_margin = max(best, key=lambda x: x[3])\n",
    "print('Best model:')\n",
    "print(f'Initial_weights: {best_margin[0]} Alpha: {best_margin[1]} Accuracy: {best_margin[2]} Margin: {best_margin[3]} Iterations: {best_margin[4]}')\n",
    "\n",
    "# save weights and alpha in a file\n",
    "np.save('weights', best_margin[0])\n",
    "np.save('alpha', best_margin[1])"
   ]
  },
  {
   "cell_type": "markdown",
   "id": "9ace9910",
   "metadata": {},
   "source": [
    "# Testing the perceptron on the test set"
   ]
  },
  {
   "cell_type": "code",
   "execution_count": 42,
   "id": "b682892c",
   "metadata": {},
   "outputs": [
    {
     "name": "stdout",
     "output_type": "stream",
     "text": [
      "Accuracy on eval set: 1.0\n",
      "Margin on eval set: 3.44561170221698\n",
      "Accuracy on test set: 1.0\n",
      "Margin on test set: 1.267983811374504\n"
     ]
    }
   ],
   "source": [
    "# load weights and alpha from a file\n",
    "weights = np.load('weights.npy')\n",
    "alpha = np.load('alpha.npy')\n",
    "# predict on eval set\n",
    "perceptron = Perceptron(alpha)\n",
    "perceptron.train(Xtrain, yTrain, weights)\n",
    "# save the final model weights\n",
    "np.save('final_model_weights.npy', perceptron.weights)\n",
    "predictions = perceptron.predict(Xval)\n",
    "accuracy = np.mean(predictions == yVal)\n",
    "print(f'Accuracy on eval set: {accuracy}')\n",
    "print(f'Margin on eval set: {perceptron.compute_min_margin(Xval)}')\n",
    "# predict on test set\n",
    "perceptron = Perceptron(alpha)\n",
    "perceptron.train(Xtrain, yTrain, weights)\n",
    "predictions = perceptron.predict(Xtest)\n",
    "accuracy = np.mean(predictions == yTest)\n",
    "print(f'Accuracy on test set: {accuracy}')\n",
    "print(f'Margin on test set: {perceptron.compute_min_margin(Xtest)}')"
   ]
  },
  {
   "cell_type": "markdown",
   "id": "247604b7",
   "metadata": {},
   "source": [
    "# Comparison with SciKit-Learn perceptron"
   ]
  },
  {
   "cell_type": "code",
   "execution_count": 41,
   "id": "2c84d1b1",
   "metadata": {},
   "outputs": [
    {
     "name": "stdout",
     "output_type": "stream",
     "text": [
      "Scikit-learn Perceptron Accuracy on Validation Set: 0.9722222222222222\n",
      "Your Perceptron Algorithm Accuracy on Validation Set: 1.0\n",
      "Scikit-learn Perceptron Accuracy on Test Set: 0.9861111111111112\n",
      "Your Perceptron Algorithm Accuracy on Test Set: 1.0\n"
     ]
    }
   ],
   "source": [
    "from sklearn.linear_model import Perceptron as Perceptron_sklearn\n",
    "\n",
    "# load weights and alpha from a file\n",
    "weights = np.load('weights.npy')\n",
    "alpha = np.load('alpha.npy')\n",
    "# train my perceptron\n",
    "perceptron = Perceptron(alpha)\n",
    "perceptron.train(Xtrain, yTrain, weights)\n",
    "\n",
    "\n",
    "sklearn_perceptron = Perceptron_sklearn()\n",
    "\n",
    "sklearn_perceptron.fit(Xtrain, yTrain)\n",
    "\n",
    "sklearn_predictions = sklearn_perceptron.predict(Xval)\n",
    "sklearn_accuracy = np.mean(sklearn_predictions == yVal)\n",
    "print(f'Scikit-learn Perceptron Accuracy on Validation Set: {sklearn_accuracy}')\n",
    "\n",
    "my_predictions = perceptron.predict(Xval)\n",
    "my_accuracy = np.mean(my_predictions == yVal)\n",
    "print(f'Your Perceptron Algorithm Accuracy on Validation Set: {my_accuracy}')\n",
    "\n",
    "sklearn_predictions = sklearn_perceptron.predict(Xtest)\n",
    "sklearn_accuracy = np.mean(sklearn_predictions == yTest)\n",
    "print(f'Scikit-learn Perceptron Accuracy on Test Set: {sklearn_accuracy}')\n",
    "\n",
    "my_predictions = perceptron.predict(Xtest)\n",
    "my_accuracy = np.mean(my_predictions == yTest)\n",
    "print(f'Your Perceptron Algorithm Accuracy on Test Set: {my_accuracy}')\n"
   ]
  }
 ],
 "metadata": {
  "kernelspec": {
   "display_name": "Python 3 (ipykernel)",
   "language": "python",
   "name": "python3"
  },
  "language_info": {
   "codemirror_mode": {
    "name": "ipython",
    "version": 3
   },
   "file_extension": ".py",
   "mimetype": "text/x-python",
   "name": "python",
   "nbconvert_exporter": "python",
   "pygments_lexer": "ipython3",
   "version": "3.8.18"
  }
 },
 "nbformat": 4,
 "nbformat_minor": 5
}
