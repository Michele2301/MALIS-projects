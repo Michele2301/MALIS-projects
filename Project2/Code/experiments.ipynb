{
 "cells": [
  {
   "cell_type": "code",
   "execution_count": 6,
   "id": "initial_id",
   "metadata": {
    "collapsed": true,
    "ExecuteTime": {
     "end_time": "2023-11-20T22:59:29.201213600Z",
     "start_time": "2023-11-20T22:59:29.154237300Z"
    }
   },
   "outputs": [
    {
     "data": {
      "text/plain": "array([[0., 0., 5., ..., 0., 0., 0.],\n       [0., 0., 1., ..., 0., 0., 0.],\n       [0., 0., 3., ..., 0., 0., 0.],\n       ...,\n       [0., 0., 1., ..., 0., 0., 1.],\n       [0., 0., 8., ..., 0., 0., 1.],\n       [0., 0., 6., ..., 0., 0., 1.]])"
     },
     "execution_count": 6,
     "metadata": {},
     "output_type": "execute_result"
    }
   ],
   "source": [
    "import pandas as pd\n",
    "from Project2.Code.perceptron import Perceptron\n",
    "from sklearn.datasets import load_digits\n",
    "from sklearn.model_selection import train_test_split\n",
    "import numpy as np\n",
    "data=load_digits(as_frame=True);\n",
    "data=data.frame\n",
    "data0=data[data['target']==0]\n",
    "data1=data[data['target']==1]\n",
    "data=pd.concat([data0,data1])\n",
    "data.values"
   ]
  },
  {
   "cell_type": "code",
   "execution_count": 7,
   "outputs": [
    {
     "ename": "ValueError",
     "evalue": "The truth value of an array with more than one element is ambiguous. Use a.any() or a.all()",
     "output_type": "error",
     "traceback": [
      "\u001B[1;31m---------------------------------------------------------------------------\u001B[0m",
      "\u001B[1;31mValueError\u001B[0m                                Traceback (most recent call last)",
      "Cell \u001B[1;32mIn[7], line 4\u001B[0m\n\u001B[0;32m      2\u001B[0m Xtrain,Xval,ytrain,yval\u001B[38;5;241m=\u001B[39mtrain_test_split(Xdata,ydata,test_size\u001B[38;5;241m=\u001B[39m\u001B[38;5;241m0.2\u001B[39m,random_state\u001B[38;5;241m=\u001B[39m\u001B[38;5;241m0\u001B[39m)\n\u001B[0;32m      3\u001B[0m perceptron\u001B[38;5;241m=\u001B[39mPerceptron()\n\u001B[1;32m----> 4\u001B[0m \u001B[43mperceptron\u001B[49m\u001B[38;5;241;43m.\u001B[39;49m\u001B[43mtrain\u001B[49m\u001B[43m(\u001B[49m\u001B[43mXtrain\u001B[49m\u001B[43m,\u001B[49m\u001B[43mytrain\u001B[49m\u001B[43m)\u001B[49m\n\u001B[0;32m      5\u001B[0m \u001B[38;5;28mprint\u001B[39m(np\u001B[38;5;241m.\u001B[39mmean(perceptron\u001B[38;5;241m.\u001B[39mpredict(Xval)\u001B[38;5;241m==\u001B[39myval))\n",
      "File \u001B[1;32mD:\\SCUOLA\\Universita\\Magistrale\\Secondo anno\\MALIS\\MALIS-projects\\Project2\\Code\\perceptron.py:24\u001B[0m, in \u001B[0;36mPerceptron.train\u001B[1;34m(self, X, y, tries)\u001B[0m\n\u001B[0;32m     22\u001B[0m m \u001B[38;5;241m=\u001B[39m \u001B[38;5;241m0\u001B[39m\n\u001B[0;32m     23\u001B[0m \u001B[38;5;28;01mfor\u001B[39;00m i \u001B[38;5;129;01min\u001B[39;00m \u001B[38;5;28mrange\u001B[39m(X\u001B[38;5;241m.\u001B[39mshape[\u001B[38;5;241m0\u001B[39m]):\n\u001B[1;32m---> 24\u001B[0m     \u001B[38;5;28;01mif\u001B[39;00m \u001B[43m(\u001B[49m\u001B[38;5;28;43mself\u001B[39;49m\u001B[38;5;241;43m.\u001B[39;49m\u001B[43mweights\u001B[49m\u001B[43m \u001B[49m\u001B[38;5;241;43m*\u001B[39;49m\u001B[43m \u001B[49m\u001B[43mX\u001B[49m\u001B[43m[\u001B[49m\u001B[43mi\u001B[49m\u001B[43m]\u001B[49m\u001B[43m \u001B[49m\u001B[38;5;241;43m*\u001B[39;49m\u001B[43m \u001B[49m\u001B[43my\u001B[49m\u001B[43m[\u001B[49m\u001B[43mi\u001B[49m\u001B[43m]\u001B[49m\u001B[43m)\u001B[49m\u001B[43m \u001B[49m\u001B[38;5;241;43m<\u001B[39;49m\u001B[38;5;241;43m=\u001B[39;49m\u001B[43m \u001B[49m\u001B[38;5;241;43m0\u001B[39;49m:\n\u001B[0;32m     25\u001B[0m         \u001B[38;5;28mself\u001B[39m\u001B[38;5;241m.\u001B[39mweights \u001B[38;5;241m=\u001B[39m \u001B[38;5;28mself\u001B[39m\u001B[38;5;241m.\u001B[39mweights \u001B[38;5;241m+\u001B[39m alpha \u001B[38;5;241m*\u001B[39m X[i] \u001B[38;5;241m*\u001B[39m y[i]\n\u001B[0;32m     26\u001B[0m         m \u001B[38;5;241m+\u001B[39m\u001B[38;5;241m=\u001B[39m \u001B[38;5;241m1\u001B[39m\n",
      "\u001B[1;31mValueError\u001B[0m: The truth value of an array with more than one element is ambiguous. Use a.any() or a.all()"
     ]
    }
   ],
   "source": [
    "Xdata,Xtest,ydata,ytest=train_test_split(data.values[:,0:-1],data.values[:,-1],test_size=0.2,random_state=0)\n",
    "Xtrain,Xval,ytrain,yval=train_test_split(Xdata,ydata,test_size=0.2,random_state=0)\n",
    "perceptron=Perceptron()\n",
    "perceptron.train(Xtrain,ytrain)\n",
    "print(np.mean(perceptron.predict(Xval)==yval))"
   ],
   "metadata": {
    "collapsed": false,
    "ExecuteTime": {
     "end_time": "2023-11-20T22:59:29.240506Z",
     "start_time": "2023-11-20T22:59:29.201213600Z"
    }
   },
   "id": "75a8770747cf027e"
  },
  {
   "cell_type": "code",
   "execution_count": null,
   "outputs": [],
   "source": [],
   "metadata": {
    "collapsed": false,
    "ExecuteTime": {
     "start_time": "2023-11-20T22:59:29.240506Z"
    }
   },
   "id": "c5a7e2458ab4d1d8"
  },
  {
   "cell_type": "code",
   "execution_count": null,
   "outputs": [],
   "source": [],
   "metadata": {
    "collapsed": false,
    "ExecuteTime": {
     "start_time": "2023-11-20T22:59:29.240506Z"
    }
   },
   "id": "8136a89db5b012ed"
  }
 ],
 "metadata": {
  "kernelspec": {
   "display_name": "Python 3",
   "language": "python",
   "name": "python3"
  },
  "language_info": {
   "codemirror_mode": {
    "name": "ipython",
    "version": 2
   },
   "file_extension": ".py",
   "mimetype": "text/x-python",
   "name": "python",
   "nbconvert_exporter": "python",
   "pygments_lexer": "ipython2",
   "version": "2.7.6"
  }
 },
 "nbformat": 4,
 "nbformat_minor": 5
}
