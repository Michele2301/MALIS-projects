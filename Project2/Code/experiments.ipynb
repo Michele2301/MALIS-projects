{
 "cells": [
  {
   "cell_type": "code",
   "execution_count": null,
   "id": "initial_id",
   "metadata": {
    "collapsed": true
   },
   "outputs": [],
   "source": [
    "import pandas as pd\n",
    "from Project2.Code.perceptron import Perceptron\n",
    "from sklearn.datasets import load_digits\n",
    "from sklearn.model_selection import train_test_split\n",
    "import numpy as np\n",
    "data=load_digits(as_frame=True);\n",
    "data=data.frame\n",
    "data0=data[data['target']==0]\n",
    "data1=data[data['target']==1]\n",
    "data=pd.concat([data0,data1])\n",
    "data.values"
   ]
  },
  {
   "cell_type": "code",
   "execution_count": null,
   "outputs": [],
   "source": [
    "Xdata,Xtest,ydata,ytest=train_test_split(data.values[:,0:-1],data.values[:,-1],test_size=0.2,random_state=0)\n",
    "Xtrain,Xval,ytrain,yval=train_test_split(Xdata,ydata,test_size=0.2,random_state=0)\n",
    "perceptron=Perceptron()\n",
    "perceptron.train(Xtrain,ytrain)\n",
    "print(np.mean(perceptron.predict(Xval)==yval))"
   ],
   "metadata": {
    "collapsed": false
   },
   "id": "75a8770747cf027e"
  },
  {
   "cell_type": "code",
   "execution_count": null,
   "outputs": [],
   "source": [],
   "metadata": {
    "collapsed": false
   },
   "id": "c5a7e2458ab4d1d8"
  },
  {
   "cell_type": "code",
   "execution_count": null,
   "outputs": [],
   "source": [],
   "metadata": {
    "collapsed": false
   },
   "id": "8136a89db5b012ed"
  }
 ],
 "metadata": {
  "kernelspec": {
   "display_name": "Python 3",
   "language": "python",
   "name": "python3"
  },
  "language_info": {
   "codemirror_mode": {
    "name": "ipython",
    "version": 2
   },
   "file_extension": ".py",
   "mimetype": "text/x-python",
   "name": "python",
   "nbconvert_exporter": "python",
   "pygments_lexer": "ipython2",
   "version": "2.7.6"
  }
 },
 "nbformat": 4,
 "nbformat_minor": 5
}
