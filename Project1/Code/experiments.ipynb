{
 "cells": [
  {
   "cell_type": "markdown",
   "id": "b645da4b-3c6a-4d00-98e6-bf9530bba0ef",
   "metadata": {},
   "source": [
    "Use this notebook to run experiments and plot results easily. You do not need to submit it, but you may use some of the generated plots in your report."
   ]
  },
  {
   "cell_type": "code",
   "execution_count": 1,
   "id": "ebcb15a0-3758-47b0-baf7-32a665842aa3",
   "metadata": {},
   "outputs": [],
   "source": [
    "import numpy as np\n",
    "\n",
    "import utils"
   ]
  },
  {
   "cell_type": "markdown",
   "id": "0ded6b3b-1ccd-4665-bb1c-4e3450a794b9",
   "metadata": {},
   "source": [
    "You can use the routine below to plot your results. Be careful to respect the naming conventions of the variables. This means X - training inputs, y - training labels, X_test - test inputs and y_test - predicted labels"
   ]
  },
  {
   "cell_type": "code",
   "execution_count": null,
   "id": "c89abfe0-d30e-4bd9-9cc6-e93600a75024",
   "metadata": {},
   "outputs": [],
   "source": [
    "# Create a grid of testing points\n",
    "h=.02 # space in the grid\n",
    "x_min, x_max = X[:, 0].min() - 1, X[:, 0].max() + 1\n",
    "y_min, y_max = X[:, 1].min() - 1, X[:, 1].max() + 1\n",
    "# xx is the x-axis coordinate of the points in the test set\n",
    "# yy is the y-axis coordinate of the points in the test set\n",
    "xx, yy = np.meshgrid(np.arange(x_min, x_max, h),\n",
    "                     np.arange(y_min, y_max, h))\n",
    "# X_test contains the test set inputs (xx,yy)\n",
    "X_test = np.c_[xx.ravel(), yy.ravel()]"
   ]
  },
  {
   "cell_type": "code",
   "execution_count": null,
   "id": "e820e1ec-44e0-4b7a-902b-ff553da88291",
   "metadata": {},
   "outputs": [],
   "source": [
    "utils.plot_results(xx,yy, X, y, y_test_k3, \"k=\" + str(k))"
   ]
  },
  {
   "cell_type": "code",
   "execution_count": 53,
   "id": "5897b8db-56bd-4d87-ab1c-e80f48c0abdd",
   "metadata": {
    "ExecuteTime": {
     "end_time": "2023-10-22T13:55:23.998276200Z",
     "start_time": "2023-10-22T13:55:23.942116500Z"
    }
   },
   "outputs": [
    {
     "name": "stdout",
     "output_type": "stream",
     "text": [
      "2\n",
      "1.0\n",
      "[[  3   2   1   0]\n",
      " [196 197 198 199]]\n",
      "(2, 4)\n"
     ]
    },
    {
     "ename": "ValueError",
     "evalue": "object too deep for desired array",
     "output_type": "error",
     "traceback": [
      "\u001B[1;31m---------------------------------------------------------------------------\u001B[0m",
      "\u001B[1;31mValueError\u001B[0m                                Traceback (most recent call last)",
      "Cell \u001B[1;32mIn[53], line 11\u001B[0m\n\u001B[0;32m      9\u001B[0m \u001B[38;5;28mprint\u001B[39m(result\u001B[38;5;241m.\u001B[39mshape)\n\u001B[0;32m     10\u001B[0m result_matrix \u001B[38;5;241m=\u001B[39m [[C[\u001B[38;5;241m0\u001B[39m,col] \u001B[38;5;28;01mfor\u001B[39;00m col \u001B[38;5;129;01min\u001B[39;00m col_indexes] \u001B[38;5;28;01mfor\u001B[39;00m col_indexes \u001B[38;5;129;01min\u001B[39;00m result]\n\u001B[1;32m---> 11\u001B[0m most_frequent_in_each_row \u001B[38;5;241m=\u001B[39m \u001B[43mnp\u001B[49m\u001B[38;5;241;43m.\u001B[39;49m\u001B[43mapply_along_axis\u001B[49m\u001B[43m(\u001B[49m\u001B[38;5;28;43;01mlambda\u001B[39;49;00m\u001B[43m \u001B[49m\u001B[43mx\u001B[49m\u001B[43m:\u001B[49m\u001B[43m \u001B[49m\u001B[43mnp\u001B[49m\u001B[38;5;241;43m.\u001B[39;49m\u001B[43margmax\u001B[49m\u001B[43m(\u001B[49m\u001B[43mnp\u001B[49m\u001B[38;5;241;43m.\u001B[39;49m\u001B[43mbincount\u001B[49m\u001B[43m(\u001B[49m\u001B[43mx\u001B[49m\u001B[43m)\u001B[49m\u001B[43m)\u001B[49m\u001B[43m,\u001B[49m\u001B[43m \u001B[49m\u001B[43maxis\u001B[49m\u001B[38;5;241;43m=\u001B[39;49m\u001B[38;5;241;43m1\u001B[39;49m\u001B[43m,\u001B[49m\u001B[43m \u001B[49m\u001B[43marr\u001B[49m\u001B[38;5;241;43m=\u001B[39;49m\u001B[43mresult\u001B[49m\u001B[38;5;241;43m.\u001B[39;49m\u001B[43mT\u001B[49m\u001B[43m)\u001B[49m\n\u001B[0;32m     13\u001B[0m \u001B[38;5;28mprint\u001B[39m(result_matrix)\n",
      "File \u001B[1;32m<__array_function__ internals>:200\u001B[0m, in \u001B[0;36mapply_along_axis\u001B[1;34m(*args, **kwargs)\u001B[0m\n",
      "File \u001B[1;32m~\\anaconda3\\envs\\malis\\lib\\site-packages\\numpy\\lib\\shape_base.py:379\u001B[0m, in \u001B[0;36mapply_along_axis\u001B[1;34m(func1d, axis, arr, *args, **kwargs)\u001B[0m\n\u001B[0;32m    375\u001B[0m \u001B[38;5;28;01mexcept\u001B[39;00m \u001B[38;5;167;01mStopIteration\u001B[39;00m \u001B[38;5;28;01mas\u001B[39;00m e:\n\u001B[0;32m    376\u001B[0m     \u001B[38;5;28;01mraise\u001B[39;00m \u001B[38;5;167;01mValueError\u001B[39;00m(\n\u001B[0;32m    377\u001B[0m         \u001B[38;5;124m'\u001B[39m\u001B[38;5;124mCannot apply_along_axis when any iteration dimensions are 0\u001B[39m\u001B[38;5;124m'\u001B[39m\n\u001B[0;32m    378\u001B[0m     ) \u001B[38;5;28;01mfrom\u001B[39;00m \u001B[38;5;28;01mNone\u001B[39;00m\n\u001B[1;32m--> 379\u001B[0m res \u001B[38;5;241m=\u001B[39m asanyarray(\u001B[43mfunc1d\u001B[49m\u001B[43m(\u001B[49m\u001B[43minarr_view\u001B[49m\u001B[43m[\u001B[49m\u001B[43mind0\u001B[49m\u001B[43m]\u001B[49m\u001B[43m,\u001B[49m\u001B[43m \u001B[49m\u001B[38;5;241;43m*\u001B[39;49m\u001B[43margs\u001B[49m\u001B[43m,\u001B[49m\u001B[43m \u001B[49m\u001B[38;5;241;43m*\u001B[39;49m\u001B[38;5;241;43m*\u001B[39;49m\u001B[43mkwargs\u001B[49m\u001B[43m)\u001B[49m)\n\u001B[0;32m    381\u001B[0m \u001B[38;5;66;03m# build a buffer for storing evaluations of func1d.\u001B[39;00m\n\u001B[0;32m    382\u001B[0m \u001B[38;5;66;03m# remove the requested axis, and add the new ones on the end.\u001B[39;00m\n\u001B[0;32m    383\u001B[0m \u001B[38;5;66;03m# laid out so that each write is contiguous.\u001B[39;00m\n\u001B[0;32m    384\u001B[0m \u001B[38;5;66;03m# for a tuple index inds, buff[inds] = func1d(inarr_view[inds])\u001B[39;00m\n\u001B[0;32m    385\u001B[0m buff \u001B[38;5;241m=\u001B[39m zeros(inarr_view\u001B[38;5;241m.\u001B[39mshape[:\u001B[38;5;241m-\u001B[39m\u001B[38;5;241m1\u001B[39m] \u001B[38;5;241m+\u001B[39m res\u001B[38;5;241m.\u001B[39mshape, res\u001B[38;5;241m.\u001B[39mdtype)\n",
      "Cell \u001B[1;32mIn[53], line 11\u001B[0m, in \u001B[0;36m<lambda>\u001B[1;34m(x)\u001B[0m\n\u001B[0;32m      9\u001B[0m \u001B[38;5;28mprint\u001B[39m(result\u001B[38;5;241m.\u001B[39mshape)\n\u001B[0;32m     10\u001B[0m result_matrix \u001B[38;5;241m=\u001B[39m [[C[\u001B[38;5;241m0\u001B[39m,col] \u001B[38;5;28;01mfor\u001B[39;00m col \u001B[38;5;129;01min\u001B[39;00m col_indexes] \u001B[38;5;28;01mfor\u001B[39;00m col_indexes \u001B[38;5;129;01min\u001B[39;00m result]\n\u001B[1;32m---> 11\u001B[0m most_frequent_in_each_row \u001B[38;5;241m=\u001B[39m np\u001B[38;5;241m.\u001B[39mapply_along_axis(\u001B[38;5;28;01mlambda\u001B[39;00m x: np\u001B[38;5;241m.\u001B[39margmax(\u001B[43mnp\u001B[49m\u001B[38;5;241;43m.\u001B[39;49m\u001B[43mbincount\u001B[49m\u001B[43m(\u001B[49m\u001B[43mx\u001B[49m\u001B[43m)\u001B[49m), axis\u001B[38;5;241m=\u001B[39m\u001B[38;5;241m1\u001B[39m, arr\u001B[38;5;241m=\u001B[39mresult\u001B[38;5;241m.\u001B[39mT)\n\u001B[0;32m     13\u001B[0m \u001B[38;5;28mprint\u001B[39m(result_matrix)\n",
      "File \u001B[1;32m<__array_function__ internals>:200\u001B[0m, in \u001B[0;36mbincount\u001B[1;34m(*args, **kwargs)\u001B[0m\n",
      "\u001B[1;31mValueError\u001B[0m: object too deep for desired array"
     ]
    }
   ],
   "source": [
    "import numpy as np\n",
    "A=np.matrix([[2,2],[2,1]])\n",
    "print(A.shape[0])\n",
    "B=np.power(np.sum(np.power(np.abs(A[0] - A[1]),2)), 0.5)\n",
    "print(B)\n",
    "C=np.matrix([range(100,-100,-1),range(-100,100)])\n",
    "result=np.argpartition(C, -4)[:,-4:];\n",
    "print(result)\n",
    "print(result.shape)\n",
    "result_matrix = [[C[0,col] for col in col_indexes] for col_indexes in result]\n",
    "\n",
    "print(result_matrix)"
   ]
  },
  {
   "cell_type": "code",
   "execution_count": 19,
   "outputs": [],
   "source": [],
   "metadata": {
    "collapsed": false,
    "ExecuteTime": {
     "end_time": "2023-10-22T13:00:19.162437600Z",
     "start_time": "2023-10-22T13:00:19.162437600Z"
    }
   },
   "id": "e6ef6e96cc545a84"
  },
  {
   "cell_type": "code",
   "execution_count": null,
   "outputs": [],
   "source": [],
   "metadata": {
    "collapsed": false
   },
   "id": "3054327dced739dc"
  }
 ],
 "metadata": {
  "kernelspec": {
   "display_name": "Python 3 (ipykernel)",
   "language": "python",
   "name": "python3"
  },
  "language_info": {
   "codemirror_mode": {
    "name": "ipython",
    "version": 3
   },
   "file_extension": ".py",
   "mimetype": "text/x-python",
   "name": "python",
   "nbconvert_exporter": "python",
   "pygments_lexer": "ipython3",
   "version": "3.8.13"
  }
 },
 "nbformat": 4,
 "nbformat_minor": 5
}
