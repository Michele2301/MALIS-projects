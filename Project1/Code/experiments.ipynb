{
 "cells": [
  {
   "cell_type": "markdown",
   "id": "b645da4b-3c6a-4d00-98e6-bf9530bba0ef",
   "metadata": {},
   "source": [
    "Use this notebook to run experiments and plot results easily. You do not need to submit it, but you may use some of the generated plots in your report."
   ]
  },
  {
   "cell_type": "code",
   "execution_count": 64,
   "id": "ebcb15a0-3758-47b0-baf7-32a665842aa3",
   "metadata": {
    "ExecuteTime": {
     "end_time": "2023-10-28T15:24:30.928348300Z",
     "start_time": "2023-10-28T15:24:30.896332200Z"
    }
   },
   "outputs": [],
   "source": [
    "import numpy as np\n",
    "import pandas as pd\n",
    "import utils\n",
    "from knn import KNN"
   ]
  },
  {
   "cell_type": "markdown",
   "id": "0ded6b3b-1ccd-4665-bb1c-4e3450a794b9",
   "metadata": {},
   "source": [
    "You can use the routine below to plot your results. Be careful to respect the naming conventions of the variables. This means X - training inputs, y - training labels, X_test - test inputs and y_test - predicted labels"
   ]
  },
  {
   "cell_type": "code",
   "execution_count": 65,
   "id": "c89abfe0-d30e-4bd9-9cc6-e93600a75024",
   "metadata": {
    "ExecuteTime": {
     "end_time": "2023-10-28T15:24:30.986262200Z",
     "start_time": "2023-10-28T15:24:30.920338100Z"
    }
   },
   "outputs": [
    {
     "ename": "ValueError",
     "evalue": "cannot reshape array of size 480 into shape (8,9)",
     "output_type": "error",
     "traceback": [
      "\u001B[1;31m---------------------------------------------------------------------------\u001B[0m",
      "\u001B[1;31mValueError\u001B[0m                                Traceback (most recent call last)",
      "Cell \u001B[1;32mIn[65], line 27\u001B[0m\n\u001B[0;32m     25\u001B[0m knn\u001B[38;5;241m.\u001B[39mtrain(X_train, y_train)\n\u001B[0;32m     26\u001B[0m y_test_k3 \u001B[38;5;241m=\u001B[39m knn\u001B[38;5;241m.\u001B[39mpredict(X, k)\n\u001B[1;32m---> 27\u001B[0m y_test_k3 \u001B[38;5;241m=\u001B[39m \u001B[43my_test_k3\u001B[49m\u001B[38;5;241;43m.\u001B[39;49m\u001B[43mreshape\u001B[49m\u001B[43m(\u001B[49m\u001B[43mxx\u001B[49m\u001B[38;5;241;43m.\u001B[39;49m\u001B[43mshape\u001B[49m\u001B[43m)\u001B[49m\n",
      "\u001B[1;31mValueError\u001B[0m: cannot reshape array of size 480 into shape (8,9)"
     ]
    }
   ],
   "source": [
    "dtr = pd.read_csv('../Data/training.csv')\n",
    "dev = pd.read_csv('../Data/validation.csv')\n",
    "\n",
    "DTR = dtr.values\n",
    "DTEV = dev.values\n",
    "X = DTEV[:, :-1]\n",
    "y = DTEV[:, -1]\n",
    "\n",
    "# Create a grid of testing points\n",
    "h=1 # space in the grid\n",
    "x_min, x_max = X[:, 0].min() - 1, X[:, 0].max() + 1\n",
    "y_min, y_max = X[:, 1].min() - 1, X[:, 1].max() + 1\n",
    "# xx is the x-axis coordinate of the points in the test set\n",
    "# yy is the y-axis coordinate of the points in the test set\n",
    "xx, yy = np.meshgrid(np.arange(x_min, x_max, h),\n",
    "                     np.arange(y_min, y_max, h))\n",
    "# X_test contains the test set inputs (xx,yy)\n",
    "# X_test = np.c_[xx.ravel(), yy.ravel()]\n",
    "\n",
    "X_train = DTR[:, :-1]\n",
    "y_train = DTR[:, -1]\n",
    "\n",
    "k = 2\n",
    "knn = KNN(2)\n",
    "knn.train(X_train, y_train)\n",
    "y_test_k3 = knn.predict(X, k)\n",
    "y_test_k3 = y_test_k3.reshape(xx.shape)"
   ]
  },
  {
   "cell_type": "code",
   "execution_count": null,
   "id": "e820e1ec-44e0-4b7a-902b-ff553da88291",
   "metadata": {
    "ExecuteTime": {
     "start_time": "2023-10-28T15:24:30.986262200Z"
    }
   },
   "outputs": [],
   "source": [
    "utils.plot_results(xx,yy, X, y, y_test_k3, \"k=\" + str(k))"
   ]
  },
  {
   "cell_type": "code",
   "execution_count": null,
   "outputs": [],
   "source": [],
   "metadata": {
    "collapsed": false,
    "ExecuteTime": {
     "end_time": "2023-10-28T15:24:30.994297Z",
     "start_time": "2023-10-28T15:24:30.986262200Z"
    }
   },
   "id": "3054327dced739dc"
  }
 ],
 "metadata": {
  "kernelspec": {
   "display_name": "Python 3 (ipykernel)",
   "language": "python",
   "name": "python3"
  },
  "language_info": {
   "codemirror_mode": {
    "name": "ipython",
    "version": 3
   },
   "file_extension": ".py",
   "mimetype": "text/x-python",
   "name": "python",
   "nbconvert_exporter": "python",
   "pygments_lexer": "ipython3",
   "version": "3.8.13"
  }
 },
 "nbformat": 4,
 "nbformat_minor": 5
}
