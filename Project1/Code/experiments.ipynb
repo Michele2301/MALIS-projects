{
 "cells": [
  {
   "cell_type": "markdown",
   "id": "b645da4b-3c6a-4d00-98e6-bf9530bba0ef",
   "metadata": {},
   "source": [
    "Use this notebook to run experiments and plot results easily. You do not need to submit it, but you may use some of the generated plots in your report."
   ]
  },
  {
   "cell_type": "code",
   "execution_count": 1,
   "id": "ebcb15a0-3758-47b0-baf7-32a665842aa3",
   "metadata": {
    "ExecuteTime": {
     "end_time": "2023-10-27T07:28:26.502360800Z",
     "start_time": "2023-10-27T07:28:25.751124200Z"
    }
   },
   "outputs": [],
   "source": [
    "import numpy as np\n",
    "\n",
    "import utils"
   ]
  },
  {
   "cell_type": "markdown",
   "id": "0ded6b3b-1ccd-4665-bb1c-4e3450a794b9",
   "metadata": {},
   "source": [
    "You can use the routine below to plot your results. Be careful to respect the naming conventions of the variables. This means X - training inputs, y - training labels, X_test - test inputs and y_test - predicted labels"
   ]
  },
  {
   "cell_type": "code",
   "execution_count": 2,
   "id": "c89abfe0-d30e-4bd9-9cc6-e93600a75024",
   "metadata": {
    "ExecuteTime": {
     "end_time": "2023-10-27T07:28:26.930433200Z",
     "start_time": "2023-10-27T07:28:26.502360800Z"
    }
   },
   "outputs": [
    {
     "ename": "NameError",
     "evalue": "name 'X' is not defined",
     "output_type": "error",
     "traceback": [
      "\u001B[1;31m---------------------------------------------------------------------------\u001B[0m",
      "\u001B[1;31mNameError\u001B[0m                                 Traceback (most recent call last)",
      "Cell \u001B[1;32mIn[2], line 3\u001B[0m\n\u001B[0;32m      1\u001B[0m \u001B[38;5;66;03m# Create a grid of testing points\u001B[39;00m\n\u001B[0;32m      2\u001B[0m h\u001B[38;5;241m=\u001B[39m\u001B[38;5;241m.02\u001B[39m \u001B[38;5;66;03m# space in the grid\u001B[39;00m\n\u001B[1;32m----> 3\u001B[0m x_min, x_max \u001B[38;5;241m=\u001B[39m \u001B[43mX\u001B[49m[:, \u001B[38;5;241m0\u001B[39m]\u001B[38;5;241m.\u001B[39mmin() \u001B[38;5;241m-\u001B[39m \u001B[38;5;241m1\u001B[39m, X[:, \u001B[38;5;241m0\u001B[39m]\u001B[38;5;241m.\u001B[39mmax() \u001B[38;5;241m+\u001B[39m \u001B[38;5;241m1\u001B[39m\n\u001B[0;32m      4\u001B[0m y_min, y_max \u001B[38;5;241m=\u001B[39m X[:, \u001B[38;5;241m1\u001B[39m]\u001B[38;5;241m.\u001B[39mmin() \u001B[38;5;241m-\u001B[39m \u001B[38;5;241m1\u001B[39m, X[:, \u001B[38;5;241m1\u001B[39m]\u001B[38;5;241m.\u001B[39mmax() \u001B[38;5;241m+\u001B[39m \u001B[38;5;241m1\u001B[39m\n\u001B[0;32m      5\u001B[0m \u001B[38;5;66;03m# xx is the x-axis coordinate of the points in the test set\u001B[39;00m\n\u001B[0;32m      6\u001B[0m \u001B[38;5;66;03m# yy is the y-axis coordinate of the points in the test set\u001B[39;00m\n",
      "\u001B[1;31mNameError\u001B[0m: name 'X' is not defined"
     ]
    }
   ],
   "source": [
    "# Create a grid of testing points\n",
    "h=.02 # space in the grid\n",
    "x_min, x_max = X[:, 0].min() - 1, X[:, 0].max() + 1\n",
    "y_min, y_max = X[:, 1].min() - 1, X[:, 1].max() + 1\n",
    "# xx is the x-axis coordinate of the points in the test set\n",
    "# yy is the y-axis coordinate of the points in the test set\n",
    "xx, yy = np.meshgrid(np.arange(x_min, x_max, h),\n",
    "                     np.arange(y_min, y_max, h))\n",
    "# X_test contains the test set inputs (xx,yy)\n",
    "X_test = np.c_[xx.ravel(), yy.ravel()]"
   ]
  },
  {
   "cell_type": "code",
   "execution_count": null,
   "id": "e820e1ec-44e0-4b7a-902b-ff553da88291",
   "metadata": {
    "ExecuteTime": {
     "end_time": "2023-10-27T07:28:26.930433200Z",
     "start_time": "2023-10-27T07:28:26.930433200Z"
    }
   },
   "outputs": [],
   "source": [
    "utils.plot_results(xx,yy, X, y, y_test_k3, \"k=\" + str(k))"
   ]
  },
  {
   "cell_type": "code",
   "execution_count": null,
   "id": "5897b8db-56bd-4d87-ab1c-e80f48c0abdd",
   "metadata": {
    "ExecuteTime": {
     "end_time": "2023-10-27T07:28:26.938482500Z",
     "start_time": "2023-10-27T07:28:26.930433200Z"
    }
   },
   "outputs": [],
   "source": [
    "import numpy as np\n",
    "A=np.matrix([[2,2],[2,1]])\n",
    "print(A.shape[0])\n",
    "B=np.power(np.sum(np.power(np.abs(A[0] - A[1]),2)), 0.5)\n",
    "print(B)\n",
    "C=np.matrix([range(100,-100,-1),range(-100,100)])\n",
    "result=np.argpartition(C, -4)[:,-4:];\n",
    "print(result)\n",
    "print(result.shape)\n",
    "result_matrix = [[C[0,col] for col in col_indexes] for col_indexes in result]\n",
    "\n",
    "print(result_matrix)"
   ]
  },
  {
   "cell_type": "code",
   "execution_count": null,
   "outputs": [],
   "source": [
    "# for the task 3 given a square made with N=2 and k points to calculate the volume we have to find the smallest value on \n",
    "# x and y and also the biggest ones, those are points of the square\n",
    "# this works also in a N dimensional cube, just find for each dimension smallest and biggest and find the biggest among them, this is\n",
    "# \"l\" and then you do l to the power of N to find the volume\n",
    "# expression: l=max(max(x0.0...xK.0)-min(x0.0...xk.0),max(x0.1...xk.1)-min(x0.1...xk.1),...,max(x0.N...xk.N)-min(x0.N...xk.N))\n",
    "# with this you find the biggest distance and so the edge of your cube.\n",
    "# higher is the dimension, higher is the volume of the cube because you will always find two points that are far away from each other\n",
    "# and so the volume will be higher\n",
    "# this lead the k-NN to don't work correctly (curse of dimensionality) because the points are always too far away from each other\n",
    "# (they don't converge to a small cube)\n",
    "import numpy as np\n",
    "import pandas as pd\n",
    "k=10\n",
    "N=1000\n",
    "y=[]\n",
    "for D in range(1,1000):\n",
    "    np.random.uniform(0,1,1000*D).reshape(1000,D)\n",
    "    #calcolate the knn\n",
    "    #calcolate the volume\n",
    "print(y)\n",
    "pd.DataFrame({'D':range(1,1000),'y':y}).plot(x='D',y='y')"
   ],
   "metadata": {
    "collapsed": false,
    "ExecuteTime": {
     "start_time": "2023-10-27T07:28:26.938482500Z"
    }
   },
   "id": "e6ef6e96cc545a84"
  },
  {
   "cell_type": "code",
   "execution_count": null,
   "outputs": [],
   "source": [],
   "metadata": {
    "collapsed": false,
    "ExecuteTime": {
     "start_time": "2023-10-27T07:28:26.938482500Z"
    }
   },
   "id": "3054327dced739dc"
  }
 ],
 "metadata": {
  "kernelspec": {
   "display_name": "Python 3 (ipykernel)",
   "language": "python",
   "name": "python3"
  },
  "language_info": {
   "codemirror_mode": {
    "name": "ipython",
    "version": 3
   },
   "file_extension": ".py",
   "mimetype": "text/x-python",
   "name": "python",
   "nbconvert_exporter": "python",
   "pygments_lexer": "ipython3",
   "version": "3.8.13"
  }
 },
 "nbformat": 4,
 "nbformat_minor": 5
}
